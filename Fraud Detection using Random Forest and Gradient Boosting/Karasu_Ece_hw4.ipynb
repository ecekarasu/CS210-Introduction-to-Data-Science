{
  "cells": [
    {
      "cell_type": "markdown",
      "metadata": {
        "id": "yoxk8HgPgWTK"
      },
      "source": [
        "# Homework 4: Fraud Detection\n",
        "\n",
        "*In this homework, you are going to work with a credit card transaction dataset.*\n",
        "\n",
        "**Submission Instructions**\n",
        "\n",
        "---\n",
        "It is important that you follow the submission instructions. \n",
        "1. Copy this assignment notebook to your Drive. <font color = 'red'> `File` --> `Save a copy in Drive`</font>. Rename it as <font color = 'green'>`Lastname_Firstname_hw4`</font>.\n",
        "\n",
        "2. Write your solutions in the cells  marked <font color = 'green'>`# your code`</font>.\n",
        "\n",
        "3. **Do not delete your outputs. They are essential for the grading. Make sure that cells containing your solutions are executed, and the results are displayed in the notebook.**\n",
        "\n",
        "4. When you're done, please submit your solutions as an <font color=\"red\">`.ipynb`</font> file. To do so:\n",
        "\n",
        "\n",
        "*   Click on <font color=\"red\">`File`</font>  at the top left on the Colab screen, then click on <font color = 'red'>`Download .ipynb`</font>.\n",
        "*   Then submit the downloaded <font color=\"red\">`.ipynb`</font> version of your work on SUCourse.\n",
        "\n",
        "For any question, you may send an email to the TAs and LAs.\n",
        "\n",
        "---"
      ]
    },
    {
      "cell_type": "markdown",
      "metadata": {
        "id": "fBcCcd-6gaaJ"
      },
      "source": [
        "In this homework, you will work on a dataset about credit card frauds.\n",
        "\n",
        "For this homework, you will use the provided file `creditcard_fraud.csv`. Feature engineering had already been applied to the dataset and informative features created. Names of these features are hidden for secrecy purposes to protect user identity.\n",
        "\n",
        "Below, you can find all the set of features, provided in the dataset:\n",
        "*   **Known Features**\n",
        "    * time: Number of seconds elapsed between this transaction and the first transaction in the dataset\n",
        "    * amount: Transaction amount\n",
        "\n",
        "*   **Other Features**\n",
        "    * V1 - V28: Hidden transaction features to protect user identities\n",
        "\n",
        "*   **Target**\n",
        "    * Class: 1 for Fraudulent transactions, 0 otherwise\n",
        "    \n",
        "\n",
        "    \n",
        "*Do not forget to add the shared `creditcard_fraud.csv` file to your drive and mount to your drive. Otherwise, you won't be able to read the file.*"
      ]
    },
    {
      "cell_type": "code",
      "execution_count": 1,
      "metadata": {
        "colab": {
          "base_uri": "https://localhost:8080/"
        },
        "id": "UBdI2zjqgPZN",
        "outputId": "4d4b497b-a1da-42bb-9bc5-4ca29b7c8111"
      },
      "outputs": [
        {
          "output_type": "stream",
          "name": "stdout",
          "text": [
            "Mounted at ./drive\n"
          ]
        }
      ],
      "source": [
        "from google.colab import drive\n",
        "drive.mount(\"./drive\", force_remount=True)\n",
        "\n",
        "# You can change this to the correct path\n",
        "path_prefix = \"./drive/My Drive\""
      ]
    },
    {
      "cell_type": "code",
      "execution_count": 2,
      "metadata": {
        "id": "T0XzdcRjgg14"
      },
      "outputs": [],
      "source": [
        "import pandas as pd \n",
        "import numpy as np\n",
        "import matplotlib.pyplot as plt\n",
        "from os.path import join\n",
        "import warnings\n",
        "warnings.filterwarnings('ignore')\n",
        "\n",
        "%matplotlib inline"
      ]
    },
    {
      "cell_type": "code",
      "execution_count": 18,
      "metadata": {
        "colab": {
          "base_uri": "https://localhost:8080/",
          "height": 299
        },
        "id": "wuaKhRu1gi7J",
        "outputId": "84b48f5e-f190-4393-e2b6-025f42b9e42f"
      },
      "outputs": [
        {
          "output_type": "execute_result",
          "data": {
            "text/plain": [
              "   Time        V1        V2        V3        V4        V5        V6        V7  \\\n",
              "0   0.0 -1.359807 -0.072781  2.536347  1.378155 -0.338321  0.462388  0.239599   \n",
              "1   0.0  1.191857  0.266151  0.166480  0.448154  0.060018 -0.082361 -0.078803   \n",
              "2   1.0 -1.358354 -1.340163  1.773209  0.379780 -0.503198  1.800499  0.791461   \n",
              "3   1.0 -0.966272 -0.185226  1.792993 -0.863291 -0.010309  1.247203  0.237609   \n",
              "4   2.0 -1.158233  0.877737  1.548718  0.403034 -0.407193  0.095921  0.592941   \n",
              "\n",
              "         V8        V9  ...       V21       V22       V23       V24       V25  \\\n",
              "0  0.098698  0.363787  ... -0.018307  0.277838 -0.110474  0.066928  0.128539   \n",
              "1  0.085102 -0.255425  ... -0.225775 -0.638672  0.101288 -0.339846  0.167170   \n",
              "2  0.247676 -1.514654  ...  0.247998  0.771679  0.909412 -0.689281 -0.327642   \n",
              "3  0.377436 -1.387024  ... -0.108300  0.005274 -0.190321 -1.175575  0.647376   \n",
              "4 -0.270533  0.817739  ... -0.009431  0.798278 -0.137458  0.141267 -0.206010   \n",
              "\n",
              "        V26       V27       V28  Amount  Class  \n",
              "0 -0.189115  0.133558 -0.021053  149.62      0  \n",
              "1  0.125895 -0.008983  0.014724    2.69      0  \n",
              "2 -0.139097 -0.055353 -0.059752  378.66      0  \n",
              "3 -0.221929  0.062723  0.061458  123.50      0  \n",
              "4  0.502292  0.219422  0.215153   69.99      0  \n",
              "\n",
              "[5 rows x 31 columns]"
            ],
            "text/html": [
              "\n",
              "  <div id=\"df-d6d595a6-9480-4005-bf22-dd7b517b57f8\">\n",
              "    <div class=\"colab-df-container\">\n",
              "      <div>\n",
              "<style scoped>\n",
              "    .dataframe tbody tr th:only-of-type {\n",
              "        vertical-align: middle;\n",
              "    }\n",
              "\n",
              "    .dataframe tbody tr th {\n",
              "        vertical-align: top;\n",
              "    }\n",
              "\n",
              "    .dataframe thead th {\n",
              "        text-align: right;\n",
              "    }\n",
              "</style>\n",
              "<table border=\"1\" class=\"dataframe\">\n",
              "  <thead>\n",
              "    <tr style=\"text-align: right;\">\n",
              "      <th></th>\n",
              "      <th>Time</th>\n",
              "      <th>V1</th>\n",
              "      <th>V2</th>\n",
              "      <th>V3</th>\n",
              "      <th>V4</th>\n",
              "      <th>V5</th>\n",
              "      <th>V6</th>\n",
              "      <th>V7</th>\n",
              "      <th>V8</th>\n",
              "      <th>V9</th>\n",
              "      <th>...</th>\n",
              "      <th>V21</th>\n",
              "      <th>V22</th>\n",
              "      <th>V23</th>\n",
              "      <th>V24</th>\n",
              "      <th>V25</th>\n",
              "      <th>V26</th>\n",
              "      <th>V27</th>\n",
              "      <th>V28</th>\n",
              "      <th>Amount</th>\n",
              "      <th>Class</th>\n",
              "    </tr>\n",
              "  </thead>\n",
              "  <tbody>\n",
              "    <tr>\n",
              "      <th>0</th>\n",
              "      <td>0.0</td>\n",
              "      <td>-1.359807</td>\n",
              "      <td>-0.072781</td>\n",
              "      <td>2.536347</td>\n",
              "      <td>1.378155</td>\n",
              "      <td>-0.338321</td>\n",
              "      <td>0.462388</td>\n",
              "      <td>0.239599</td>\n",
              "      <td>0.098698</td>\n",
              "      <td>0.363787</td>\n",
              "      <td>...</td>\n",
              "      <td>-0.018307</td>\n",
              "      <td>0.277838</td>\n",
              "      <td>-0.110474</td>\n",
              "      <td>0.066928</td>\n",
              "      <td>0.128539</td>\n",
              "      <td>-0.189115</td>\n",
              "      <td>0.133558</td>\n",
              "      <td>-0.021053</td>\n",
              "      <td>149.62</td>\n",
              "      <td>0</td>\n",
              "    </tr>\n",
              "    <tr>\n",
              "      <th>1</th>\n",
              "      <td>0.0</td>\n",
              "      <td>1.191857</td>\n",
              "      <td>0.266151</td>\n",
              "      <td>0.166480</td>\n",
              "      <td>0.448154</td>\n",
              "      <td>0.060018</td>\n",
              "      <td>-0.082361</td>\n",
              "      <td>-0.078803</td>\n",
              "      <td>0.085102</td>\n",
              "      <td>-0.255425</td>\n",
              "      <td>...</td>\n",
              "      <td>-0.225775</td>\n",
              "      <td>-0.638672</td>\n",
              "      <td>0.101288</td>\n",
              "      <td>-0.339846</td>\n",
              "      <td>0.167170</td>\n",
              "      <td>0.125895</td>\n",
              "      <td>-0.008983</td>\n",
              "      <td>0.014724</td>\n",
              "      <td>2.69</td>\n",
              "      <td>0</td>\n",
              "    </tr>\n",
              "    <tr>\n",
              "      <th>2</th>\n",
              "      <td>1.0</td>\n",
              "      <td>-1.358354</td>\n",
              "      <td>-1.340163</td>\n",
              "      <td>1.773209</td>\n",
              "      <td>0.379780</td>\n",
              "      <td>-0.503198</td>\n",
              "      <td>1.800499</td>\n",
              "      <td>0.791461</td>\n",
              "      <td>0.247676</td>\n",
              "      <td>-1.514654</td>\n",
              "      <td>...</td>\n",
              "      <td>0.247998</td>\n",
              "      <td>0.771679</td>\n",
              "      <td>0.909412</td>\n",
              "      <td>-0.689281</td>\n",
              "      <td>-0.327642</td>\n",
              "      <td>-0.139097</td>\n",
              "      <td>-0.055353</td>\n",
              "      <td>-0.059752</td>\n",
              "      <td>378.66</td>\n",
              "      <td>0</td>\n",
              "    </tr>\n",
              "    <tr>\n",
              "      <th>3</th>\n",
              "      <td>1.0</td>\n",
              "      <td>-0.966272</td>\n",
              "      <td>-0.185226</td>\n",
              "      <td>1.792993</td>\n",
              "      <td>-0.863291</td>\n",
              "      <td>-0.010309</td>\n",
              "      <td>1.247203</td>\n",
              "      <td>0.237609</td>\n",
              "      <td>0.377436</td>\n",
              "      <td>-1.387024</td>\n",
              "      <td>...</td>\n",
              "      <td>-0.108300</td>\n",
              "      <td>0.005274</td>\n",
              "      <td>-0.190321</td>\n",
              "      <td>-1.175575</td>\n",
              "      <td>0.647376</td>\n",
              "      <td>-0.221929</td>\n",
              "      <td>0.062723</td>\n",
              "      <td>0.061458</td>\n",
              "      <td>123.50</td>\n",
              "      <td>0</td>\n",
              "    </tr>\n",
              "    <tr>\n",
              "      <th>4</th>\n",
              "      <td>2.0</td>\n",
              "      <td>-1.158233</td>\n",
              "      <td>0.877737</td>\n",
              "      <td>1.548718</td>\n",
              "      <td>0.403034</td>\n",
              "      <td>-0.407193</td>\n",
              "      <td>0.095921</td>\n",
              "      <td>0.592941</td>\n",
              "      <td>-0.270533</td>\n",
              "      <td>0.817739</td>\n",
              "      <td>...</td>\n",
              "      <td>-0.009431</td>\n",
              "      <td>0.798278</td>\n",
              "      <td>-0.137458</td>\n",
              "      <td>0.141267</td>\n",
              "      <td>-0.206010</td>\n",
              "      <td>0.502292</td>\n",
              "      <td>0.219422</td>\n",
              "      <td>0.215153</td>\n",
              "      <td>69.99</td>\n",
              "      <td>0</td>\n",
              "    </tr>\n",
              "  </tbody>\n",
              "</table>\n",
              "<p>5 rows × 31 columns</p>\n",
              "</div>\n",
              "      <button class=\"colab-df-convert\" onclick=\"convertToInteractive('df-d6d595a6-9480-4005-bf22-dd7b517b57f8')\"\n",
              "              title=\"Convert this dataframe to an interactive table.\"\n",
              "              style=\"display:none;\">\n",
              "        \n",
              "  <svg xmlns=\"http://www.w3.org/2000/svg\" height=\"24px\"viewBox=\"0 0 24 24\"\n",
              "       width=\"24px\">\n",
              "    <path d=\"M0 0h24v24H0V0z\" fill=\"none\"/>\n",
              "    <path d=\"M18.56 5.44l.94 2.06.94-2.06 2.06-.94-2.06-.94-.94-2.06-.94 2.06-2.06.94zm-11 1L8.5 8.5l.94-2.06 2.06-.94-2.06-.94L8.5 2.5l-.94 2.06-2.06.94zm10 10l.94 2.06.94-2.06 2.06-.94-2.06-.94-.94-2.06-.94 2.06-2.06.94z\"/><path d=\"M17.41 7.96l-1.37-1.37c-.4-.4-.92-.59-1.43-.59-.52 0-1.04.2-1.43.59L10.3 9.45l-7.72 7.72c-.78.78-.78 2.05 0 2.83L4 21.41c.39.39.9.59 1.41.59.51 0 1.02-.2 1.41-.59l7.78-7.78 2.81-2.81c.8-.78.8-2.07 0-2.86zM5.41 20L4 18.59l7.72-7.72 1.47 1.35L5.41 20z\"/>\n",
              "  </svg>\n",
              "      </button>\n",
              "      \n",
              "  <style>\n",
              "    .colab-df-container {\n",
              "      display:flex;\n",
              "      flex-wrap:wrap;\n",
              "      gap: 12px;\n",
              "    }\n",
              "\n",
              "    .colab-df-convert {\n",
              "      background-color: #E8F0FE;\n",
              "      border: none;\n",
              "      border-radius: 50%;\n",
              "      cursor: pointer;\n",
              "      display: none;\n",
              "      fill: #1967D2;\n",
              "      height: 32px;\n",
              "      padding: 0 0 0 0;\n",
              "      width: 32px;\n",
              "    }\n",
              "\n",
              "    .colab-df-convert:hover {\n",
              "      background-color: #E2EBFA;\n",
              "      box-shadow: 0px 1px 2px rgba(60, 64, 67, 0.3), 0px 1px 3px 1px rgba(60, 64, 67, 0.15);\n",
              "      fill: #174EA6;\n",
              "    }\n",
              "\n",
              "    [theme=dark] .colab-df-convert {\n",
              "      background-color: #3B4455;\n",
              "      fill: #D2E3FC;\n",
              "    }\n",
              "\n",
              "    [theme=dark] .colab-df-convert:hover {\n",
              "      background-color: #434B5C;\n",
              "      box-shadow: 0px 1px 3px 1px rgba(0, 0, 0, 0.15);\n",
              "      filter: drop-shadow(0px 1px 2px rgba(0, 0, 0, 0.3));\n",
              "      fill: #FFFFFF;\n",
              "    }\n",
              "  </style>\n",
              "\n",
              "      <script>\n",
              "        const buttonEl =\n",
              "          document.querySelector('#df-d6d595a6-9480-4005-bf22-dd7b517b57f8 button.colab-df-convert');\n",
              "        buttonEl.style.display =\n",
              "          google.colab.kernel.accessAllowed ? 'block' : 'none';\n",
              "\n",
              "        async function convertToInteractive(key) {\n",
              "          const element = document.querySelector('#df-d6d595a6-9480-4005-bf22-dd7b517b57f8');\n",
              "          const dataTable =\n",
              "            await google.colab.kernel.invokeFunction('convertToInteractive',\n",
              "                                                     [key], {});\n",
              "          if (!dataTable) return;\n",
              "\n",
              "          const docLinkHtml = 'Like what you see? Visit the ' +\n",
              "            '<a target=\"_blank\" href=https://colab.research.google.com/notebooks/data_table.ipynb>data table notebook</a>'\n",
              "            + ' to learn more about interactive tables.';\n",
              "          element.innerHTML = '';\n",
              "          dataTable['output_type'] = 'display_data';\n",
              "          await google.colab.output.renderOutput(dataTable, element);\n",
              "          const docLink = document.createElement('div');\n",
              "          docLink.innerHTML = docLinkHtml;\n",
              "          element.appendChild(docLink);\n",
              "        }\n",
              "      </script>\n",
              "    </div>\n",
              "  </div>\n",
              "  "
            ]
          },
          "metadata": {},
          "execution_count": 18
        }
      ],
      "source": [
        "filename = \"creditcard_fraud.csv\"\n",
        "df = pd.read_csv(join(path_prefix, filename))\n",
        "\n",
        "df.head()"
      ]
    },
    {
      "cell_type": "markdown",
      "metadata": {
        "id": "ycIDUJGugnPP"
      },
      "source": [
        "## Q1 - Ratio Between Fraudalent and Non-Fraudalent Transactions (5 Points)\n",
        "\n",
        "The dataset is imbalanced so that non-frauds are dominant in the data. In this part you are asked to plot a pie chart and show the ratio between fraudalent and non-fraudalent transactions. Your output should be like: \n",
        "\n",
        "<img src=\"https://i.ibb.co/7KpVFG9/pie.png\" alt=\"pie\" border=\"0\" width=\"300\">\n",
        "\n"
      ]
    },
    {
      "cell_type": "code",
      "execution_count": 19,
      "metadata": {
        "colab": {
          "base_uri": "https://localhost:8080/",
          "height": 264
        },
        "id": "OyXiX4Lqgq4q",
        "outputId": "e3da410d-dab6-4f92-c32f-8bef7d24db95"
      },
      "outputs": [
        {
          "output_type": "display_data",
          "data": {
            "text/plain": [
              "<Figure size 432x288 with 1 Axes>"
            ],
            "image/png": "[encoded data removed]"
          },
          "metadata": {}
        }
      ],
      "source": [
        "# Your Code\n",
        "\n",
        "#finding the ratios\n",
        "num_transactions = df.shape[0]\n",
        "num_frauds = df[df['Class'] == 1].shape[0]\n",
        "ratio_frauds = num_frauds / num_transactions * 100\n",
        "ratio_non_fraud = 100 - ratio_frauds\n",
        "\n",
        "# creating the pie chart\n",
        "labels = ['Fraud', 'Non-Fraud']\n",
        "sizes = [ratio_frauds, ratio_non_fraud]\n",
        "colors = ['red', 'blue']\n",
        "plt.pie(sizes, labels=labels, colors=colors, autopct='%1.1f%%', startangle=0)\n",
        "plt.title(\"Ratio of Transactions\")\n",
        "plt.show()"
      ]
    },
    {
      "cell_type": "markdown",
      "metadata": {
        "id": "kTkwhYVlgyTN"
      },
      "source": [
        "## Q2 - Split the data into train (60%), validation (20%) and test (20%). (5 Points)\n",
        "\n",
        "Use `train_test_split` with `random_state` parameter set to 0. Drop `Time` column since it doesn't give any information.\n",
        "\n",
        "***Important:** Do not forget that the data is imbalanced so you should handle that with stratified splitting. Search how you can do this with `train_test_split` function*"
      ]
    },
    {
      "cell_type": "code",
      "execution_count": 20,
      "metadata": {
        "id": "nE-wYYO9gyyV"
      },
      "outputs": [],
      "source": [
        "# Your Code\n",
        "from sklearn.model_selection import train_test_split\n",
        "\n",
        "# dropping the \"Time\" column \n",
        "df = df.drop(columns=['Time'])\n",
        "\n",
        "# splitting the data into train, validation, and test\n",
        "X = df.drop(columns=['Class'])\n",
        "y = df['Class']\n",
        "X_train, X_test, y_train, y_test = train_test_split(X, y, test_size=0.4, random_state=0, stratify=y)\n",
        "X_val, X_test, y_val, y_test = train_test_split(X_test, y_test, test_size=0.5, random_state=0, stratify=y_test)\n",
        "\n",
        "# print(f'train: {X_train.shape}')\n",
        "# print(f'val: {X_val.shape}')\n",
        "# print(f'test: {X_test.shape}')"
      ]
    },
    {
      "cell_type": "markdown",
      "metadata": {
        "id": "e6KbrogHg5kj"
      },
      "source": [
        "## Q3 - Build 2 Baseline Models (5 Points)\n",
        "\n",
        "You are going to build a Random Forest and a Gradient Boosting model. Set random_state = 0. Then fit the model with training data."
      ]
    },
    {
      "cell_type": "code",
      "execution_count": 21,
      "metadata": {
        "colab": {
          "base_uri": "https://localhost:8080/"
        },
        "id": "wrf8N6ahg6Ot",
        "outputId": "ff87710b-6835-4af5-e918-ffe8a4266ceb"
      },
      "outputs": [
        {
          "output_type": "execute_result",
          "data": {
            "text/plain": [
              "GradientBoostingClassifier(random_state=0)"
            ]
          },
          "metadata": {},
          "execution_count": 21
        }
      ],
      "source": [
        "#Your Code\n",
        "from sklearn.ensemble import RandomForestClassifier\n",
        "from sklearn.ensemble import GradientBoostingClassifier\n",
        "\n",
        "# building a Random Forest model\n",
        "model_rf = RandomForestClassifier(random_state=0)\n",
        "model_rf.fit(X_train, y_train)\n",
        "\n",
        "# building a Gradient Boosting model\n",
        "model_gb = GradientBoostingClassifier(random_state=0)\n",
        "model_gb.fit(X_train, y_train)"
      ]
    },
    {
      "cell_type": "markdown",
      "metadata": {
        "id": "k5KpT6_JhD3V"
      },
      "source": [
        "## Q4 - Evaluate the Baseline Model (30 Points)\n",
        "\n",
        "There are some functions below already imported for you. You can use those functions to find results but of course there are other ways too. Those are given for you to give hints. "
      ]
    },
    {
      "cell_type": "markdown",
      "metadata": {
        "id": "iA0oF3hShG4M"
      },
      "source": [
        "### Part 1 - Plot Confusion Matrix (10 Points)\n",
        "\n",
        "In this part you are asked to plot the Confusion Matrix for both Random Forest and Gradient Boosting model for the predictions made on the validation data. These outputs should be side by side. You can use subplots from matplotlib. \n",
        "\n",
        "**Note**: There are many ways to use subplots, so don't stick with one of them if it doesn't work. Two libraries are given to you for confusion matrix. However, you are free to use any other or implement it yourself. The colors of the confusion matrix don't have to be the same with the expected output.\n",
        "\n",
        "\n",
        "<img src=\"https://i.ibb.co/JrknyR8/conf2.png\" alt=\"conf2\" border=\"0\" width=\"600\">\n",
        "\n",
        "*Please keep in mind that this confusion matrix might be different than what you will get due to randomness.*"
      ]
    },
    {
      "cell_type": "code",
      "execution_count": 22,
      "metadata": {
        "colab": {
          "base_uri": "https://localhost:8080/",
          "height": 303
        },
        "id": "j2IPSUJqhENY",
        "outputId": "219b12ec-b12f-4f66-b64e-023883f8f6cb"
      },
      "outputs": [
        {
          "output_type": "display_data",
          "data": {
            "text/plain": [
              "<Figure size 720x360 with 4 Axes>"
            ],
            "image/png": "[encoded data removed]"
          },
          "metadata": {
            "needs_background": "light"
          }
        }
      ],
      "source": [
        "# Your Code\n",
        "from sklearn.metrics import plot_confusion_matrix\n",
        "from sklearn.metrics import confusion_matrix\n",
        "\n",
        "fig, (ax1, ax2) = plt.subplots(1, 2, figsize=(10, 5))\n",
        "\n",
        "# the confusion matrix for the Random Forest model\n",
        "plot_confusion_matrix(model_rf, X_val, y_val, ax=ax1, cmap='Blues')\n",
        "ax1.set_title('Random Forest Confusion Matrix')\n",
        "\n",
        "# the confusion matrix for the Gradient Boosting model\n",
        "plot_confusion_matrix(model_gb, X_val, y_val, ax=ax2, cmap='Greens')\n",
        "ax2.set_title('Gradient Boosting Confusion Matrix')\n",
        "\n",
        "plt.show()"
      ]
    },
    {
      "cell_type": "markdown",
      "metadata": {
        "id": "CslF9ARShPGw"
      },
      "source": [
        "### Part 2 - Plot ROC Curve Evaluated on Validation Data (20 Points)\n",
        "\n",
        "In this part you are asked to plot ROC curve of these two model's output on the validation data. You can see the expected format below.\n",
        "\n",
        "\n",
        "<img src=\"https://i.ibb.co/5BZKHd1/curves.png\" alt=\"curves\" border=\"0\" width=\"500\">\n",
        "\n",
        "*Please keep in mind that this plot might be different than what you will get due to randomness.*"
      ]
    },
    {
      "cell_type": "code",
      "execution_count": 23,
      "metadata": {
        "colab": {
          "base_uri": "https://localhost:8080/",
          "height": 369
        },
        "id": "rdUvMqqihPfc",
        "outputId": "28baa40a-73c9-4b70-caa1-1bee2f77d578"
      },
      "outputs": [
        {
          "output_type": "display_data",
          "data": {
            "text/plain": [
              "<Figure size 576x360 with 4 Axes>"
            ],
            "image/png": "[encoded data removed]"
          },
          "metadata": {
            "needs_background": "light"
          }
        }
      ],
      "source": [
        "# Your Code\n",
        "from sklearn.metrics import RocCurveDisplay, PrecisionRecallDisplay, roc_curve, auc, precision_recall_curve, roc_auc_score\n",
        "\n",
        "rf_y_pred_proba = model_rf.predict_proba(X_val)[:, 1]\n",
        "rf_fpr, rf_tpr, rf_thresholds = roc_curve(y_val, rf_y_pred_proba) # calculating false positive and true positive rates\n",
        "rf_precision, rf_recall, rf_thresholds = precision_recall_curve(y_val, rf_y_pred_proba) # calculating precision and recall values \n",
        "rf_auc = roc_auc_score(y_val, rf_y_pred_proba)\n",
        "\n",
        "gb_y_pred_proba = model_gb.predict_proba(X_val)[:, 1]\n",
        "gb_fpr, gb_tpr, gb_thresholds = roc_curve(y_val, gb_y_pred_proba) # calculating false positive and true positive rates\n",
        "gb_precision, gb_recall, gb_thresholds = precision_recall_curve(y_val, gb_y_pred_proba) # calculating precision and recall values \n",
        "gb_auc = roc_auc_score(y_val, gb_y_pred_proba)\n",
        "\n",
        "fig, ((ax1, ax2), (ax3, ax4)) = plt.subplots(2, 2, figsize=(8, 5))\n",
        "\n",
        "ax1.plot(rf_fpr, rf_tpr, label='RandomForest (AUC = {:.2f})'.format(rf_auc))\n",
        "ax1.set_xlabel('FPR')\n",
        "ax1.set_ylabel('TPR')\n",
        "ax1.set_title('Random Forest ROC')\n",
        "ax1.legend(loc='lower right', fontsize=7)\n",
        "\n",
        "ax2.plot(gb_fpr, gb_tpr, label='Gradient Boosting (AUC = {:.2f})'.format(gb_auc))\n",
        "ax2.set_xlabel('FPR')\n",
        "ax2.set_ylabel('TPR')\n",
        "ax2.set_title('Gradient Boosting ROC')\n",
        "ax2.legend(loc='lower right', fontsize=7)\n",
        "\n",
        "ax3.plot(rf_precision, rf_recall, label='Random Forest')\n",
        "ax3.set_xlabel('Recall')\n",
        "ax3.set_ylabel('Precision')\n",
        "ax3.set_title('Random Forest Precision-Recall curve')\n",
        "ax3.legend(loc='lower left', fontsize=7)\n",
        "\n",
        "ax4.plot(gb_precision, gb_recall, label='Gradient Boosting')\n",
        "ax4.set_xlabel('Recall')\n",
        "ax4.set_ylabel('Precision')\n",
        "ax4.set_title('Gradient Boosting Precision-Recall curve')\n",
        "ax4.legend(loc='lower left', fontsize=7)\n",
        "\n",
        "plt.tight_layout()\n",
        "plt.show()"
      ]
    },
    {
      "cell_type": "markdown",
      "metadata": {
        "id": "ZCxjVm6KhYaS"
      },
      "source": [
        "## Q5 - Hyperparameter Tuning (40 Points)"
      ]
    },
    {
      "cell_type": "markdown",
      "metadata": {
        "id": "YwEsDkCVhbQx"
      },
      "source": [
        "### Part 1: Getting Hyperparameter Tuning Results (30 Points)\n",
        "\n",
        "Now that you trained the default model and see the results, it is time to make it better with hyperparameter tuning. To evaluate the model performances you need to use AUPRC(Area Under Precision-Recall Curve). To this end, store AUPRC values for each model then decide which parameters are the best to use.\n",
        "\n",
        "Here, you are asked to tune hyperparameters in two steps. \n",
        "\n",
        "**Step 1:**\n",
        "\n",
        "In the first step, train different models dfor both algorithm separately only changing number of estimators.\n",
        "\n",
        "Use the following values for this step:\n",
        "```\n",
        "'n_estimators': [50,100,300,500]\n",
        "```\n",
        "**Step 2:**\n",
        "\n",
        "In the second step, train different models **only** changing max_features values. You should use the best value for the `n_estimators` that you obtained in the first step. (The best value of `n_estimators` can be different for 2 algorithm)\n",
        "\n",
        "Use the following values for this step:\n",
        "```\n",
        "'max_features': [5,7,10,25]\n",
        "```\n",
        "\n",
        "**Remember that positive class is fraudalent ones.**\n",
        "\n",
        "\n",
        "<img src=\"https://i.ibb.co/kqQqcXS/model-results.png\" alt=\"model-results\" border=\"0\" width=\"350\">\n",
        "\n",
        "*Please keep in mind that this results might be different than what you will get due to randomness.*"
      ]
    },
    {
      "cell_type": "code",
      "source": [
        "# Your Code\n",
        "from sklearn.model_selection import cross_val_score\n",
        "from sklearn.metrics import average_precision_score\n",
        "from tqdm import tqdm\n",
        "\n",
        "n_folds = 5 # number of folds for cross-validation\n",
        "\n",
        "n_estimators_given = [50, 100, 300, 500]\n",
        "max_features_given = [5, 7, 10, 25]\n",
        "\n",
        "# Random Forest\n",
        "n_estimators_auprc_rf = []\n",
        "max_features_auprc_rf = []\n",
        "results = {} \n",
        "\n",
        "for n_estimators in n_estimators_given:\n",
        "    model_rf = RandomForestClassifier(n_estimators=n_estimators, random_state=0)\n",
        "    cv_scores = cross_val_score(model_rf, X_train, y_train, cv=n_folds, scoring='average_precision') # using cross-validation for calculating the average precision score\n",
        "    mean_score = cv_scores.mean()\n",
        "    std_score = cv_scores.std()\n",
        "    results[f'{n_estimators}'] = (mean_score, std_score)\n",
        "\n",
        "best_model = max(results, key=lambda x: results[x][0])\n",
        "best_n_estimators = best_model\n",
        "\n",
        "print(\"Random Forest: \\n\")\n",
        "for model, (mean_score, std_score) in results.items():\n",
        "    print(f\"n_estimators {model} , AUPRC score: {mean_score}\")\n",
        "    n_estimators_auprc_rf.append(mean_score)\n",
        "print(f\"\\nBest n_estimators for Random Forest = {best_n_estimators}\\n\")\n",
        "\n",
        "results_2 = {}\n",
        "for max_features in max_features_given:\n",
        "    model_rf = RandomForestClassifier(n_estimators=int(best_n_estimators), max_features=max_features, random_state=0)\n",
        "    cv_scores = cross_val_score(model_rf, X_train, y_train, cv=n_folds, scoring='average_precision')\n",
        "    mean_score = np.mean(cv_scores)\n",
        "    std_score = np.std(cv_scores)\n",
        "    results_2[f'{best_n_estimators}, {max_features}'] = (mean_score, std_score)\n",
        "\n",
        "best_model = max(results_2, key=lambda x: results_2[x][0])\n",
        "best_max_features = best_model\n",
        "best_max_features_list = best_max_features.split(\", \")\n",
        "best_max_feature = best_max_features_list[1]\n",
        "\n",
        "for model, (mean_score, std_score) in results_2.items():\n",
        "    model_list = model.split(\", \")\n",
        "    estimator = model_list[0]\n",
        "    feature = model_list[1]\n",
        "    print(f\"n_estimators {estimator} max_features {feature} , AUPRC score: {mean_score}\")\n",
        "    max_features_auprc_rf.append(mean_score)\n",
        "\n",
        "print(f\"\\nFor Random Forest, best n_estimators = {best_n_estimators} and best max_features = {best_max_feature}\\n\")\n",
        "\n",
        "# Gradient Boosting\n",
        "n_estimators_auprc_gb = []\n",
        "max_features_auprc_gb = []\n",
        "results_3 = {} \n",
        "\n",
        "for n_estimators in n_estimators_given:\n",
        "    model_gb = GradientBoostingClassifier(n_estimators=n_estimators, random_state=0)\n",
        "    cv_scores = cross_val_score(model_gb, X_train, y_train, cv=n_folds, scoring='average_precision') # using cross-validation for calculating the average precision score\n",
        "    mean_score = cv_scores.mean()\n",
        "    std_score = cv_scores.std()\n",
        "    results_3[f'{n_estimators}'] = (mean_score, std_score)\n",
        "\n",
        "best_model_2 = max(results_3, key=lambda x: results_3[x][0])\n",
        "best_n_estimators_2 = best_model_2\n",
        "\n",
        "print(\"Gradient Boosting: \\n\")\n",
        "for model, (mean_score, std_score) in results_3.items():\n",
        "    print(f\"n_estimators {model}, AUPRC score: {mean_score}\")\n",
        "    n_estimators_auprc_gb.append(mean_score)\n",
        "print(f\"\\nBest n_estimators for Gradient Boosting = {best_n_estimators_2}\\n\")\n",
        "\n",
        "results_4 = {}\n",
        "\n",
        "for max_features in max_features_given:\n",
        "    model_gb = RandomForestClassifier(n_estimators=int(best_n_estimators_2), max_features=max_features, random_state=0)\n",
        "    cv_scores = cross_val_score(model_gb, X_train, y_train, cv=n_folds, scoring='average_precision')\n",
        "    mean_score = np.mean(cv_scores)\n",
        "    std_score = np.std(cv_scores)\n",
        "    results_4[f'{best_n_estimators_2}, {max_features}'] = (mean_score, std_score)\n",
        "\n",
        "best_model_2 = max(results_4, key=lambda x: results_4[x][0])\n",
        "best_max_features_2 = best_model_2\n",
        "best_max_features_list_2 = best_max_features_2.split(\", \")\n",
        "best_max_feature_2 = best_max_features_list_2[1]\n",
        "\n",
        "for model, (mean_score, std_score) in results_4.items():\n",
        "    model_list = model.split(\", \")\n",
        "    estimator = model_list[0]\n",
        "    feature = model_list[1]\n",
        "    print(f\"n_estimators {estimator} max_features {feature} , AUPRC score: {mean_score}\")\n",
        "    max_features_auprc_gb.append(mean_score)\n",
        "\n",
        "print(f\"\\nFor Gradient Boosting, best n_estimators = {best_n_estimators_2} and best max_features = {best_max_feature_2}\")"
      ],
      "metadata": {
        "colab": {
          "base_uri": "https://localhost:8080/"
        },
        "id": "11ASMmtNFK5i",
        "outputId": "46375d72-4a39-4be7-fe36-5a8c0d8c33fc"
      },
      "execution_count": 24,
      "outputs": [
        {
          "output_type": "stream",
          "name": "stdout",
          "text": [
            "Random Forest: \n",
            "\n",
            "n_estimators 50 , AUPRC score: 0.879020194831695\n",
            "n_estimators 100 , AUPRC score: 0.8855327970149023\n",
            "n_estimators 300 , AUPRC score: 0.8933643917884118\n",
            "n_estimators 500 , AUPRC score: 0.8950750253728709\n",
            "\n",
            "Best n_estimators for Random Forest = 500\n",
            "\n",
            "n_estimators 500 max_features 5 , AUPRC score: 0.8950750253728709\n",
            "n_estimators 500 max_features 7 , AUPRC score: 0.897286995995573\n",
            "n_estimators 500 max_features 10 , AUPRC score: 0.8969704782710821\n",
            "n_estimators 500 max_features 25 , AUPRC score: 0.8853355847931187\n",
            "\n",
            "For Random Forest, best n_estimators = 500 and best max_features = 7\n",
            "\n",
            "Gradient Boosting: \n",
            "\n",
            "n_estimators 50, AUPRC score: 0.7033500423624431\n",
            "n_estimators 100, AUPRC score: 0.6868964378784191\n",
            "n_estimators 300, AUPRC score: 0.6978749312467468\n",
            "n_estimators 500, AUPRC score: 0.7125717229983085\n",
            "\n",
            "Best n_estimators for Gradient Boosting = 500\n",
            "\n",
            "n_estimators 500 max_features 5 , AUPRC score: 0.8950750253728709\n",
            "n_estimators 500 max_features 7 , AUPRC score: 0.897286995995573\n",
            "n_estimators 500 max_features 10 , AUPRC score: 0.8969704782710821\n",
            "n_estimators 500 max_features 25 , AUPRC score: 0.8853355847931187\n",
            "\n",
            "For Gradient Boosting, best n_estimators = 500 and best max_features = 7\n"
          ]
        }
      ]
    },
    {
      "cell_type": "markdown",
      "metadata": {
        "id": "KaGW6I51hoqH"
      },
      "source": [
        "### Part 2 - Plotting Results (10 PTS)\n",
        "\n",
        "You can see that the AUPRC scores may be better when max_features is not set than when we set it. This is because the default value of max_features might work better. However, for now, we will proceed with the results of the values we have determined.\n",
        "\n",
        "Plot `n_estimators` vs AUPRC scores and `max_features` vs AUPRC scores using validation data with subplots. Please check the expected output to see the format\n",
        "\n",
        "Your plots should look like below. Remember these plots are based on random allocations so it is highly possible that the values you get will not be exactly the same. However, structures should be the same.\n",
        "\n",
        "\n",
        "***Hint:** You can set yticks as np.around(np.linspace(0.7,1),decimals=2) to have similar plots.*\n",
        "\n",
        "\n",
        "<img src=\"https://i.ibb.co/9y8ZJpp/hyp-plot.png\" alt=\"hyp-plot\" border=\"0\">\n",
        "\n",
        "*Please keep in mind that these plots might be different than what you will get due to randomness.*"
      ]
    },
    {
      "cell_type": "code",
      "execution_count": 25,
      "metadata": {
        "id": "oQL7lqsxhthb",
        "colab": {
          "base_uri": "https://localhost:8080/",
          "height": 242
        },
        "outputId": "8049e07b-2e35-4454-ec9f-afb19781527b"
      },
      "outputs": [
        {
          "output_type": "display_data",
          "data": {
            "text/plain": [
              "<Figure size 648x216 with 2 Axes>"
            ],
            "image/png": "[encoded data removed]"
          },
          "metadata": {
            "needs_background": "light"
          }
        }
      ],
      "source": [
        "# Your Code\n",
        "\n",
        "# setting yticks\n",
        "yticks = np.around(np.linspace(0.7, 1), decimals=2)\n",
        "\n",
        "fig, (ax1, ax2) = plt.subplots(nrows=1, ncols=2, figsize=(9, 3))\n",
        "\n",
        "ax1.set_title(\"AUPRC - n_estimators\")\n",
        "ax1.set_xlabel(\"n_estimators\")\n",
        "ax1.set_ylabel(\"AUPRC\")\n",
        "\n",
        "ax2.set_title(\"AUPRC - max_features\")\n",
        "ax2.set_xlabel(\"max_features\")\n",
        "ax2.set_ylabel(\"AUPRC\")\n",
        "\n",
        "# loop for n_estimators and AUPRC scores\n",
        "n_estimators_given = [int(x) for x in n_estimators_given]\n",
        "ax1.plot(n_estimators_given, n_estimators_auprc_gb, color='red', linestyle='dashed',marker='o', label = \"Gradient Boosting\")\n",
        "ax1.plot(n_estimators_given, n_estimators_auprc_rf, color='blue', linestyle='dashed',marker='o', label = \"Random Forest\")\n",
        "\n",
        "# loop for max_features and AUPRC scores\n",
        "max_features_given = [int(x) for x in max_features_given]\n",
        "ax2.plot(max_features_given, max_features_auprc_gb, color='red', linestyle='dashed',marker='o', label = \"Gradient Boosting\")\n",
        "ax2.plot(max_features_given, max_features_auprc_rf, color='blue', linestyle='dashed',marker='o', label = \"Random Forest\")\n",
        "\n",
        "ax1.set_ylim(0.7, 1)\n",
        "ax2.set_ylim(0.7, 1)\n",
        "\n",
        "ax1.set_yticks(yticks)\n",
        "ax2.set_yticks(yticks)\n",
        "\n",
        "ax1.grid()\n",
        "ax2.grid()\n",
        "\n",
        "ax1.legend()\n",
        "ax2.legend()\n",
        "\n",
        "plt.show()"
      ]
    },
    {
      "cell_type": "markdown",
      "metadata": {
        "id": "KBF4FHoJh1Dy"
      },
      "source": [
        "## Q6 - Evaluate on Test Data (20 PTS)\n",
        "\n",
        "Here, you are asked to evaluate the final model using the test data. Select the best model among these 2 different algorithms and its best num_estimator and max features. \n",
        "\n",
        "### Retrain the Model\n",
        "\n",
        "Retrain your model combining train + validation data with using the hyperparameters you have chosen (best). This part has no points but it's necessary to do the upcoming parts"
      ]
    },
    {
      "cell_type": "code",
      "execution_count": 31,
      "metadata": {
        "id": "czrRxVIrh4Y0"
      },
      "outputs": [],
      "source": [
        "# Your Code\n",
        "score_rf = 0\n",
        "score_gb = 0\n",
        "for model, (mean_score_rf, std_score) in results.items():\n",
        "  for model, (mean_score_gb, std_score) in results_3.items():\n",
        "    if mean_score_rf > mean_score_gb:\n",
        "      score_rf += 1\n",
        "    else:\n",
        "      score_gb += 1\n",
        "\n",
        "if score_rf > score_gb:\n",
        "  best_n_estimators_retrain = best_n_estimators\n",
        "  best_max_feature_retrain = best_max_feature\n",
        "\n",
        "  # merging the train and validation dataframes\n",
        "  X = pd.concat([X_train, X_val])\n",
        "  y = pd.concat([y_train, y_val])\n",
        "\n",
        "  rf_model = RandomForestClassifier(n_estimators=int(best_n_estimators_retrain), max_features=int(best_max_feature_retrain), random_state=0)\n",
        "  rf_model.fit(X, y)\n",
        "\n",
        "  y_pred = rf_model.predict(X_test)\n",
        "  auprc = average_precision_score(y_test, y_pred)\n",
        "  # print(f'AUPRC score: {auprc:.3f}')\n",
        "  best = rf_model\n",
        "\n",
        "else:\n",
        "  best_n_estimators_retrain = best_n_estimators_2\n",
        "  best_max_feature_retrain = best_max_feature_2\n",
        "\n",
        "  # merging the train and validation dataframes\n",
        "  X = pd.concat([X_train, X_val])\n",
        "  y = pd.concat([y_train, y_val])\n",
        "\n",
        "  gb_model = GradientBoostingClassifier(n_estimators=int(best_n_estimators_retrain), max_features=int(best_max_feature_retrain), random_state=0)\n",
        "  gb_model.fit(X_train + X_val, y_train + y_val)\n",
        "\n",
        "  y_pred = gb_model.predict(X_test)\n",
        "  auprc = average_precision_score(y_test, y_pred)\n",
        "  # print(f'AUPRC score: {auprc:.3f}')/\n",
        "  best = gb_model"
      ]
    },
    {
      "cell_type": "markdown",
      "metadata": {
        "id": "pMqe1lNNh8Xh"
      },
      "source": [
        "### Part 1 - Plot Confusion Matrix (10 Points)\n",
        "\n",
        "Expected Output:\n",
        "\n",
        "<img src=\"https://i.ibb.co/mNKZj6q/test-conf.png\" alt=\"test-conf\" border=\"0\" width=\"300\">\n",
        "\n",
        "*Please keep in mind that this confusion matrix might be different than what you will get.*"
      ]
    },
    {
      "cell_type": "code",
      "execution_count": 32,
      "metadata": {
        "id": "tydgF9YziAxq",
        "colab": {
          "base_uri": "https://localhost:8080/",
          "height": 295
        },
        "outputId": "d64b21df-d5ce-4911-9fc2-a0a80fdcfd4d"
      },
      "outputs": [
        {
          "output_type": "display_data",
          "data": {
            "text/plain": [
              "<Figure size 504x288 with 2 Axes>"
            ],
            "image/png": "[encoded data removed]"
          },
          "metadata": {
            "needs_background": "light"
          }
        }
      ],
      "source": [
        "# Your Code\n",
        "fig, ax = plt.subplots(figsize=(7, 4))\n",
        "plot_confusion_matrix(best, X_test, y_test, ax=ax, cmap='Blues')\n",
        "ax.set_title('Confusion Matrix Evaluated on Test Data')\n",
        "plt.show()"
      ]
    },
    {
      "cell_type": "markdown",
      "metadata": {
        "id": "O6tDwR7DiIJk"
      },
      "source": [
        "### Part 2 - Plot ROC Curve and Precision-Recall Curve Evaluated on Test Data (10 Points)\n",
        "\n",
        "Expected Output:\n",
        "\n",
        "<img src=\"https://i.ibb.co/9tTNp5j/test-plot.png\" alt=\"test-plot\" border=\"0\" width=\"500\">\n",
        "\n",
        "*Please keep in mind that these plots might be different than what you will get due to randomness.*"
      ]
    },
    {
      "cell_type": "code",
      "execution_count": 33,
      "metadata": {
        "id": "Y-J44R7viKtz",
        "colab": {
          "base_uri": "https://localhost:8080/",
          "height": 297
        },
        "outputId": "bcf07cc6-ccbf-4f54-c07b-9b771d28319e"
      },
      "outputs": [
        {
          "output_type": "display_data",
          "data": {
            "text/plain": [
              "<Figure size 576x288 with 2 Axes>"
            ],
            "image/png": "[encoded data removed]"
          },
          "metadata": {
            "needs_background": "light"
          }
        }
      ],
      "source": [
        "# Your Code\n",
        "best_y_pred_proba = best.predict_proba(X_test)[:, 1]\n",
        "best_fpr, best_tpr, best_thresholds = roc_curve(y_test, best_y_pred_proba) # calculating false positive and true positive rates\n",
        "best_precision, best_recall, best_thresholds = precision_recall_curve(y_test, best_y_pred_proba) # calculating precision and recall values \n",
        "best_auc = roc_auc_score(y_test, best_y_pred_proba)\n",
        "\n",
        "fig, (ax1, ax2) = plt.subplots(1, 2, figsize=(8, 4))\n",
        "\n",
        "ax1.plot(rf_fpr, rf_tpr, label='RandomForest (AUC = {:.2f})'.format(rf_auc))\n",
        "ax1.set_xlabel('FPR')\n",
        "ax1.set_ylabel('TPR')\n",
        "ax1.set_title('Random Forest ROC')\n",
        "ax1.legend(loc='lower right')\n",
        "\n",
        "ax2.plot(rf_precision, rf_recall, label='Random Forest')\n",
        "ax2.set_xlabel('Recall')\n",
        "ax2.set_ylabel('Precision')\n",
        "ax2.set_title('Random Forest Precision-Recall curve')\n",
        "ax2.legend(loc='lower left')\n",
        "\n",
        "plt.tight_layout()\n",
        "plt.show()"
      ]
    }
  ],
  "metadata": {
    "colab": {
      "provenance": []
    },
    "kernelspec": {
      "display_name": "Python 3",
      "name": "python3"
    },
    "language_info": {
      "name": "python"
    }
  },
  "nbformat": 4,
  "nbformat_minor": 0
}