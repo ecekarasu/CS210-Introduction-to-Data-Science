{
  "nbformat": 4,
  "nbformat_minor": 0,
  "metadata": {
    "colab": {
      "provenance": [],
      "collapsed_sections": []
    },
    "kernelspec": {
      "name": "python3",
      "display_name": "Python 3"
    },
    "language_info": {
      "name": "python"
    }
  },
  "cells": [
    {
      "cell_type": "markdown",
      "source": [
        "# Homework 2 - Data Wrangling\n",
        "\n",
        "\n",
        "*In this homework, you are going to work on a real-world dataset and perform some data transformations. We suggest you start the homework early.*\n",
        "\n",
        "**Submission Instructions**\n",
        "\n",
        "---\n",
        "It is important that you follow the submission instructions. \n",
        "1. Copy this assignment notebook to your Drive. <font color = 'red'> `File` --> `Save a copy in Drive`</font>. Rename it as <font color = 'green'>`Lastname_Firstname_hw2`</font>.\n",
        "\n",
        "2. Write your solutions in the cells  marked as <font color = 'green'>`# your code`</font>.\n",
        "\n",
        "3. **Do not delete your outputs**. They are essential for the grading. Make sure that cells containing your solutions are executed, and the results are displayed on the notebook.\n",
        "\n",
        "4. When you're done please submit your solutions as an <font color=\"red\">`.ipynb`</font> file. To do so:\n",
        "\n",
        "\n",
        "  a. Click on <font color=\"red\">`File`</font>  at the top left on the Colab screen, then click on <font color = 'red'>`Download .ipynb`</font>.\n",
        "\n",
        "  b. Then submit the downloaded <font color=\"red\">`.ipynb`</font> version of your work on SUCourse.\n",
        "\n",
        "\n",
        "For any question, please use the discussion page on Sucourse.\n",
        "\n",
        "---\n",
        "\n",
        "**Important Note: In this homework, you are not allowed to use Pandas.**"
      ],
      "metadata": {
        "id": "bzLXvNMN_gYM"
      }
    },
    {
      "cell_type": "markdown",
      "source": [
        "In this homework, you will work on a dataset from [Kaggle-Medium-2021-Data-Science-Articles](https://www.kaggle.com/datasets/viniciuslambert/medium-2021-data-science-articles-dataset). The dataset contains information on data science articles shared on Medium.com in 2021.\n",
        "\n",
        "For this homework, you will use the provided file `Medium_DS_Articles_2021_Dataset.csv`. This is a modified version of the original dataset.\n",
        "<!-- This is not the original data file, we modified and eliminated some parts. -->\n",
        "\n",
        "In the dataset, each row has 7 attribute values separated with `,`. These attributes are described in the list below with their respective order in the dataset.\n",
        "\n",
        "\n",
        "  1.   **url:** Refers to the url of the article\n",
        "\n",
        "  2.   **author:** Who has written the article\n",
        "\n",
        "  3.   **claps** Similar to \"Likes\" on Social Media\n",
        "\n",
        "  4.   **responses:** Comments written to the articles\n",
        "  \n",
        "  5.   **reading_time:** Reading time of articles recorded by Medium.com (In minutes)\n",
        "  \n",
        "  6.   **date:** The date the article was written\n",
        "\n",
        "\n",
        "A snapshot from the dataset containing three sample rows is also provided below.\n",
        "```\n",
        "['https://medium.com/@sellforte-insights/bayesian-data-analysis-a-brave-new-world-of-statistics-1fc3167812d7','sellforte-insights', '0.0', '0.0', '9-min', 'Data Science','2021-05-19']\n",
        "['https://towardsdatascience.com/how-to-improve-deep-learning-forecasts-for-time-series-part-2-c11efc8dfee2','michaelberk', '106.0', '0.0', '5-min', 'Machine Learning','2021-10-26']\n",
        "['https://medium.com/@paulshin17/intro-on-linear-regression-using-keras-predicting-real-estate-price-f0e94de1b912','paulshin17', '107.0', '0.0', '6-min', 'Data Science','2021-10-18']\n",
        "...\n",
        "```\n",
        "\n",
        "*Do not forget to add the shared `Medium_DS_Articles_2021_Dataset.csv` file to your drive and mount to your drive. Otherwise, you won't be able to read the file.*\n",
        "\n",
        "**!!!IMPORTANT: You are not allowed to use `pandas` in this homework**"
      ],
      "metadata": {
        "id": "kfiyUPnr_jYG"
      }
    },
    {
      "cell_type": "code",
      "source": [
        "from google.colab import drive\n",
        "drive.mount('./drive', force_remount=True)\n",
        "\n",
        "path_prefix = './drive/My Drive'"
      ],
      "metadata": {
        "colab": {
          "base_uri": "https://localhost:8080/"
        },
        "id": "EVlcLWud_ist",
        "outputId": "dfb05586-ebfc-4b90-e33a-dd42335edbb6"
      },
      "execution_count": 2,
      "outputs": [
        {
          "output_type": "stream",
          "name": "stdout",
          "text": [
            "Mounted at ./drive\n"
          ]
        }
      ]
    },
    {
      "cell_type": "code",
      "source": [
        "import numpy as np\n",
        "import matplotlib.pyplot as plt\n",
        "import re\n",
        "\n",
        "%matplotlib inline"
      ],
      "metadata": {
        "id": "30e5ET0u_rKp"
      },
      "execution_count": 3,
      "outputs": []
    },
    {
      "cell_type": "markdown",
      "source": [
        "## 10 Points - Q1: Read the Dataset\n",
        "\n",
        "In the provided dataset, entries are separated by commas. Read and store the file as a 2D numpy array. Each column should capture the corresponding fields.\n",
        "\n",
        "- Read the given file into a numpy array.\n",
        "- Print the number of rows and columns.\n",
        "- Print the number of unique Tags.\n",
        "\n",
        "Example Output:\n",
        "```\n",
        "Number of rows: 36810, columns: 7\n",
        "Number of unique Tags: 8\n",
        "```\n",
        "\n",
        "*Hint: Do not forget to skip the first line (the header).*"
      ],
      "metadata": {
        "id": "FtwZhhnm_s3r"
      }
    },
    {
      "cell_type": "code",
      "source": [
        "# Your Code\n",
        "arr = np.loadtxt(\"/content/Medium_DS_Articles_2021_Dataset.csv\", delimiter=\",\", dtype=str)\n",
        "arr = np.delete(arr, 0, axis=0)\n",
        "num_rows, num_cols = arr.shape\n",
        "print(\"Number of rows: \", num_rows, \", columns: \", num_cols, sep=\"\")\n",
        "\n",
        "unique_tags = []\n",
        "for each in arr:\n",
        "  if each[5] not in unique_tags:\n",
        "    unique_tags.append(each[5])\n",
        "print(\"Number of unique Tags: \", len(unique_tags), sep=\"\")"
      ],
      "metadata": {
        "id": "QyDPMaYz_vJs",
        "colab": {
          "base_uri": "https://localhost:8080/"
        },
        "outputId": "04939a8e-0954-4b27-c287-dae3fe4db952"
      },
      "execution_count": 54,
      "outputs": [
        {
          "output_type": "stream",
          "name": "stdout",
          "text": [
            "Number of rows: 36810, columns: 7\n",
            "Number of unique Tags: 8\n"
          ]
        }
      ]
    },
    {
      "cell_type": "markdown",
      "source": [
        "## 30 Points - Q2: Exploring Dataset"
      ],
      "metadata": {
        "id": "G6iSBqFE_1PI"
      }
    },
    {
      "cell_type": "markdown",
      "source": [
        "### 15 Points - Part A\n",
        "\n",
        "The tag field makes it easy to find the articles on the related topic. Examining the tags used in articles written in 2021 can give us information about which field has become more popular.\n",
        "\n",
        "- Print the name of each unique Tag and its frequency in data from the most frequent to least\n",
        "\n",
        "Example output:\n",
        "```\n",
        "Data Science           -   9033\n",
        "Machine Learning       -   7732\n",
        "Artificial Inteligence -   7552\n",
        "Data                   -   4810\n",
        "Deep Learning          -   2903\n",
        "X                      -   1674\n",
        "Big Data               -   1579\n",
        "Analytics              -   1527\n",
        "```"
      ],
      "metadata": {
        "id": "_9qqI1_X_3i0"
      }
    },
    {
      "cell_type": "code",
      "source": [
        "# Your Code\n",
        "tags = {}\n",
        "for each in arr:\n",
        "  if each[5] not in tags:\n",
        "    tags[each[5]] = 1\n",
        "  else:\n",
        "    tags[each[5]] += 1\n",
        "\n",
        "tags_sorted = sorted(tags.items(), key=lambda x: x[1])\n",
        "i = len(tags_sorted)-1\n",
        "for i in range(len(tags_sorted)):\n",
        "  print(\"{0:22} - {1}\".format(tags_sorted[len(tags_sorted)-1-i][0], tags_sorted[len(tags_sorted)-1-i][1]))"
      ],
      "metadata": {
        "id": "wU1NkEAM_6ee",
        "colab": {
          "base_uri": "https://localhost:8080/"
        },
        "outputId": "1f748c60-13c6-4e47-9359-eea3bffc957b"
      },
      "execution_count": 55,
      "outputs": [
        {
          "output_type": "stream",
          "name": "stdout",
          "text": [
            "Data Science           - 9033\n",
            "Machine Learning       - 7732\n",
            "Artificial Inteligence - 7552\n",
            "Data                   - 4810\n",
            "Deep Learning          - 2903\n",
            "X                      - 1674\n",
            "Big Data               - 1579\n",
            "Analytics              - 1527\n"
          ]
        }
      ]
    },
    {
      "cell_type": "markdown",
      "source": [
        "### 15 Points - Part B\n",
        "\n",
        "When we examined the frequency of the tags, we learned that more articles were written about which topic. But there is a tag called '**X**' and we don't know what it means. We may want to check the rows containing this Tag and examine what they are. When we examine these, we see they all have the similar structure and there is something strange in the '**date**' field. We want you to rearrange these corrupted date fields so that every '**date**' value in the same format.\n",
        "\n",
        "**Note:** Some of the examples can be seen below where %Y represents years (e.g. 2022, 2021), %m month as a zero-padded decimal number (e.g. 07, 08) and %d day of the month as a zero-padded decimal number (e.g. 01, 03). You may assume that the order of date elements is always the same in the raw data: %Y %m %d.\n",
        "\n",
        "\n",
        "Corrupted Date formats are as follows:\n",
        "```\n",
        "'(%Y)::(%m)::(%d)', \n",
        "'%Y %m %d'\n",
        "```\n",
        "You **MUST** use **regular expressions** for this question. (Use the **re** library of Python)\n",
        "- Write a **function** that checks the format of date feature and returns True if all observations are in the expected format, otherwise returns False.\n",
        "    - **Name of the function**: validate_date_format\n",
        "    - **Input**: Date column\n",
        "    - **Output**: True if all date values are in the expected format (%Y-%m-%d --- 2022-10-22), otherwise False\n",
        "- Then, convert the **date** feature to the expected format.\n",
        "\n",
        "```\n",
        "Expected Date Format: '%Y-%m-%d' --> '2022-10-22'\n",
        "```"
      ],
      "metadata": {
        "id": "xOlWyha___nz"
      }
    },
    {
      "cell_type": "code",
      "source": [
        "# Your Code\n",
        "import re\n",
        "\n",
        "def validate_date_format(date_column):\n",
        "  for date in date_column:\n",
        "    re1 = r\"(\\d\\d\\d\\d)[-](\\d\\d)[-](\\d\\d)\"\n",
        "    matched_re1 = re.finditer(re1, date)\n",
        "    is_matched_re1 = False\n",
        "\n",
        "    for match in matched_re1:\n",
        "      is_matched_re1 = True\n",
        "\n",
        "    if is_matched_re1 == False:\n",
        "      re2 = r\"[(](\\d\\d\\d\\d)[)][:][:][(](\\d\\d)[)][:][:][(](\\d\\d)[)]\"\n",
        "      matched_re2 = re.finditer(re2, date)\n",
        "      is_matched_re2 = False\n",
        "\n",
        "      for match in matched_re2:\n",
        "        is_matched_re2 = True\n",
        "      \n",
        "      if is_matched_re2 == False:\n",
        "        return False\n",
        "\n",
        "      return False\n",
        "\n",
        "  return True\n",
        "\n",
        "# print(validate_date_format(arr[:,6]))\n",
        "\n",
        "for i, date in enumerate(arr[:,6]):\n",
        "  date = str(date)\n",
        "  re1 = r\"(\\d\\d\\d\\d)[-](\\d\\d)[-](\\d\\d)\"\n",
        "  matched_re1 = re.finditer(re1, date)\n",
        "  is_matched_re1 = False\n",
        "  # expected = ''\n",
        "\n",
        "  for match in matched_re1:\n",
        "    is_matched_re1 = True\n",
        "\n",
        "  if is_matched_re1 == False:\n",
        "    re2 = r\"[(](\\d\\d\\d\\d)[)][:][:][(](\\d\\d)[)][:][:][(](\\d\\d)[)]\"\n",
        "    matched_re2 = re.finditer(re2, date)\n",
        "    is_matched_re2 = False\n",
        "\n",
        "    for match in matched_re2:\n",
        "      is_matched_re2 = True\n",
        "    \n",
        "    if is_matched_re2 == False:\n",
        "      date = date.replace(\" \", \"-\")\n",
        "      arr[i,6] = date\n",
        "      # date = date.split(\"-\")\n",
        "      # expected = date[0] + \"-\" + date[1] + \"-\" + date[2]\n",
        "      # print(\"Expected Date Format: '%Y-%m-%d' --> '\", date[0], \"-\", date[1], \"-\", date[2], \"'\", sep=\"\")\n",
        "    \n",
        "    date = date.replace(\"::\", \"-\")\n",
        "    date = date.replace(\"(\", \"\")\n",
        "    date = date.replace(\")\", \"\")\n",
        "    arr[i,6] = date\n",
        "    # date = date.split(\"-\")\n",
        "    # expected = date[0] + \"-\" + date[1] + \"-\" + date[2]\n",
        "    # print(\"Expected Date Format: '%Y-%m-%d' --> '\", date[0], \"-\", date[1], \"-\", date[2], \"'\", sep=\"\")"
      ],
      "metadata": {
        "id": "VlSC1Ja-ACSz"
      },
      "execution_count": 58,
      "outputs": []
    },
    {
      "cell_type": "markdown",
      "source": [
        "## 20 Points - Q3: Cleaning Data\n",
        "\n",
        "We learned that there are some removed articles. In Q2 Part B, we rearranged the format of the date feature. In this part, we will examine in which month more articles were deleted.\n",
        "\n",
        "- Display the total number of deleted articles per each month as a bar chart\n",
        "- At the end, delete these removed articles from the dataset\n",
        "\n"
      ],
      "metadata": {
        "id": "eB8OLrnJAIKa"
      }
    },
    {
      "cell_type": "code",
      "source": [
        "# Your Code\n",
        "def find_month(month):\n",
        "  if month == \"01\":\n",
        "    month = \"jan\"\n",
        "  elif month == \"02\":\n",
        "    month = \"feb\"\n",
        "  elif month == \"03\":\n",
        "    month = \"mar\"\n",
        "  elif month == \"04\":\n",
        "    month = \"apr\"\n",
        "  elif month == \"05\":\n",
        "    month = \"may\"\n",
        "  elif month == \"06\":\n",
        "    month = \"jun\"\n",
        "  elif month == \"07\":\n",
        "    month = \"jul\"\n",
        "  elif month == \"08\":\n",
        "    month = \"aug\"\n",
        "  elif month == \"09\":\n",
        "    month = \"sep\"\n",
        "  elif month == \"10\":\n",
        "    month = \"oct\"\n",
        "  elif month == \"11\":\n",
        "    month = \"nov\"\n",
        "  else:\n",
        "    month = \"dec\"\n",
        "  return month\n",
        "\n",
        "new_arr = []\n",
        "removed = {\"jan\": 0, \"feb\": 0, \"mar\": 0, \"apr\": 0, \"may\": 0, \"jun\": 0, \"jul\": 0, \"aug\": 0, \"sep\": 0, \"oct\": 0, \"nov\": 0, \"dec\": 0,} \n",
        "month = \"\"\n",
        "for each in arr:\n",
        "  if each[0] == \"[REMOVED_ARTICLE]\":\n",
        "    month = each[6][5:7] \n",
        "    month = find_month(month)\n",
        "    removed[month] += 1\n",
        "  else:\n",
        "    new_arr.append(each)\n",
        "\n",
        "plt.bar(removed.keys(),removed.values())\n",
        "plt.title('Q3: Cleaning Data')\n",
        "plt.xlabel('month')\n",
        "plt.ylabel('total number of deleted articles')\n",
        "plt.show()\n",
        "\n",
        "new_arr = np.array(new_arr)"
      ],
      "metadata": {
        "id": "6mBB_RZuAKk2",
        "colab": {
          "base_uri": "https://localhost:8080/",
          "height": 295
        },
        "outputId": "c5345451-b094-43d6-c365-3c2e86a8f87c"
      },
      "execution_count": 59,
      "outputs": [
        {
          "output_type": "display_data",
          "data": {
            "text/plain": [
              "<Figure size 432x288 with 1 Axes>"
            ],
            "image/png": "[encoded data removed]"
          },
          "metadata": {
            "needs_background": "light"
          }
        }
      ]
    },
    {
      "cell_type": "markdown",
      "source": [
        "## 40 Points - Q4: Features of Medium Articles"
      ],
      "metadata": {
        "id": "T1Fc4ZoXAPiX"
      }
    },
    {
      "cell_type": "markdown",
      "source": [
        "### 10 Points - Part A\n",
        "\n",
        "In this question, we will examine the different features of the articles on Medium. In Q3, we deleted the removed articles to examine the data that is not missing. First, let's check the new shape of our dataset.\n",
        "\n",
        "- Print the new number of rows and columns after dropping missing values.\n",
        "\n",
        "Medium has reading times calculated automatically by the site's own method which you can find in data. Take a quick look at the basic statistical information of this feature. \n",
        "\n",
        "- Print the maximum, minimum and average reading time of articles\n",
        "\n",
        "Example Output:\n",
        "```\n",
        "After cleaning, Number of rows: 35136, columns: 7\n",
        "Maximum reading time: 131.0\n",
        "Minimum reading time: 0.0\n",
        "Average reading time: 5.041182832422587\n",
        "```"
      ],
      "metadata": {
        "id": "qHnRYpO-ATY1"
      }
    },
    {
      "cell_type": "code",
      "source": [
        "# Your Code\n",
        "new_num_rows, new_num_cols = new_arr.shape\n",
        "print(\"After cleaning, Number of rows: \", new_num_rows, \", columns: \", new_num_cols, sep=\"\")\n",
        "\n",
        "max = 0.0\n",
        "min = 0.0\n",
        "count = 0\n",
        "sum = 0.0\n",
        "\n",
        "for each in new_arr:\n",
        "  time = each[4]\n",
        "  if \"-\" in time:\n",
        "    count += 1\n",
        "    idx = time.find(\"-\")\n",
        "    time = float(time[0:idx])\n",
        "    sum += time\n",
        "    if time > max:\n",
        "      max = time\n",
        "    elif time < min:\n",
        "      min = time\n",
        "\n",
        "print(\"Maximum reading time: \", max)\n",
        "print(\"Minimum reading time: \", min)\n",
        "print(\"Average reading time: \", sum / count)"
      ],
      "metadata": {
        "id": "KCcTd0SyAVoi",
        "colab": {
          "base_uri": "https://localhost:8080/"
        },
        "outputId": "ceab2db9-ed3f-484d-b838-e806e97c8ca8"
      },
      "execution_count": 60,
      "outputs": [
        {
          "output_type": "stream",
          "name": "stdout",
          "text": [
            "After cleaning, Number of rows: 35136, columns: 7\n",
            "Maximum reading time:  131.0\n",
            "Minimum reading time:  0.0\n",
            "Average reading time:  5.041182832422587\n"
          ]
        }
      ]
    },
    {
      "cell_type": "markdown",
      "source": [
        "### 30 Points - Part B: Conditional Probability\n",
        "\n",
        "Claps and Responses show how many interaction an article get similar to likes and comments. We can find out which tag is likely to receive more interaction.\n",
        "\n",
        "$\\DeclareMathOperator*{\\argmax}{argmax} \\argmax\\limits_{\\small{tag} \\, \\in \\, \\text{Tag Category}}\\;P(\\text{Interaction}=\\text{1}|\\text{Tag Category}=\\text{tag})$\n",
        "\n",
        "- Add new column to data which shows '**interaction**' and its value is 1 if there is any interaction, otherwise 0.\n",
        "- For each tag category, calculate the conditional probability shown in the equation below.\n",
        "- Report the tag category that returns the highest conditional probability. \n",
        "- Print the tag category and its probability value.\n",
        "\n",
        "**Example Output:**\n",
        "```\n",
        "Data Science - 0.8334993911214437\n",
        "```"
      ],
      "metadata": {
        "id": "VhSXktqrAb8s"
      }
    },
    {
      "cell_type": "code",
      "source": [
        "# Your Code\n",
        "interaction_col = []\n",
        "for each in new_arr:\n",
        "  if each[2] == \"0.0\" and each[3] == \"0.0\": \n",
        "      interaction_col.append([0])\n",
        "  else:\n",
        "    interaction_col.append([1])\n",
        "\n",
        "interaction_col = np.array(interaction_col)\n",
        "new_arr = np.append(new_arr, interaction_col, axis=1)\n",
        "\n",
        "tags_list = []\n",
        "for each in new_arr:\n",
        "  if each[5] not in tags_list:\n",
        "    tags_list.append(each[5])\n",
        "\n",
        "interacted_only = {}\n",
        "for tag in tags_list: \n",
        "  for each in new_arr:\n",
        "    if each[5] == tag:\n",
        "      if tag not in interacted_only and each[7] == \"1\":\n",
        "        interacted_only[tag] = 1\n",
        "      elif tag in interacted_only and each[7] == \"1\":\n",
        "        interacted_only[tag] += 1\n",
        "    \n",
        "all_data= {}\n",
        "for each in arr:\n",
        "  if each[5] not in all_data:\n",
        "    all_data[each[5]] = 0\n",
        "  else:\n",
        "    all_data[each[5]] += 1\n",
        "\n",
        "highest_prob = 0\n",
        "highest_prob_tag = \"\"\n",
        "for i in range(len(tags_list)):\n",
        "  cond_prob = interacted_only[tags_list[i]]/all_data[tags_list[i]]\n",
        "  if cond_prob > highest_prob:\n",
        "    highest_prob = cond_prob\n",
        "    highest_prob_tag = tags_list[i]\n",
        "\n",
        "print(highest_prob_tag, \" - \", highest_prob, sep=\"\")"
      ],
      "metadata": {
        "id": "-SpHMvbAAcZs",
        "colab": {
          "base_uri": "https://localhost:8080/"
        },
        "outputId": "9e6e6553-800b-4c5d-acf4-cde8d9f87366"
      },
      "execution_count": 61,
      "outputs": [
        {
          "output_type": "stream",
          "name": "stdout",
          "text": [
            "Data Science - 0.83359167404783\n"
          ]
        }
      ]
    }
  ]
}