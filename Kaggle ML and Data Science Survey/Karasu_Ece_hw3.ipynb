{
  "nbformat": 4,
  "nbformat_minor": 0,
  "metadata": {
    "colab": {
      "provenance": []
    },
    "kernelspec": {
      "name": "python3",
      "display_name": "Python 3"
    },
    "language_info": {
      "name": "python"
    }
  },
  "cells": [
    {
      "cell_type": "markdown",
      "source": [
        "# Homework 3: Kaggle ML & Data Science Survey\n",
        "\n",
        "\n",
        "**Submission Instructions**\n",
        "\n",
        "---\n",
        "It is important that you follow the submission instructions. \n",
        "1. Copy this assignment notebook to your Drive. <font color = 'red'> `File` --> `Save a copy in Drive`</font>. Rename it as <font color = 'green'>`Lastname_Firstname_hw3`</font>.\n",
        "\n",
        "2. Write your solutions in the cells  marked <font color = 'green'>`# your code`</font>.\n",
        "\n",
        "3. **Do not delete your outputs. They are essential for the grading. Make sure that cells containing your solutions are executed, and the results are displayed in the notebook.**\n",
        "\n",
        "4. When you're done, please submit your solutions as an <font color=\"red\">`.ipynb`</font> file. To do so:\n",
        "\n",
        "\n",
        "*   Click on <font color=\"red\">`File`</font>  at the top left on the Colab screen, then click on <font color = 'red'>`Download .ipynb`</font>.\n",
        "*   Then submit the downloaded <font color=\"red\">`.ipynb`</font> version of your work on SUCourse.\n",
        "\n",
        "For any question, you may send an email to the TAs and LAs.\n",
        "\n",
        "---"
      ],
      "metadata": {
        "id": "ID83Qf8PCvMg"
      }
    },
    {
      "cell_type": "markdown",
      "source": [
        "In this homework, you will work on a dataset about [2017 Kaggle Machine Learning & Data Science Survey](https://www.kaggle.com/datasets/kaggle/kaggle-survey-2017). Dataset contains information about an industry-wide survey conducted by Kaggle in 2017 to establish a comprehensive view of the state of data science and machine learning \n",
        "\n",
        "For this homework, you will use the provided file `Job_Satisfaction_Survey.csv`. This is a modified version of the original dataset.\n",
        "<!-- This is not the original data file, we modified and eliminated some parts. -->\n",
        "\n",
        "Below, you can find all the set of features, provided in the dataset:\n",
        "\n",
        "\n",
        "  1.   **ID:** Unique ID assigned by system\n",
        "\n",
        "  2.   **GenderSelect:** Select your gender identity. - Selected Choice\n",
        "\n",
        "  3.   **Country** Select the country you currently live in.\n",
        "\n",
        "  4.   **Age:** What's your age?\n",
        "  \n",
        "  5.   **CurrentJobTitleSelect:** Select the option that's most similar to your current job/professional title (or most recent title if retired). - Selected Choice\n",
        "  \n",
        "  6.   **LanguageRecommendationSelect:** What programming language would you recommend a new data scientist learn first? (Select one option) - Selected Choice\n",
        "  \n",
        "  7.   **FormalEducation:** Which level of formal education have you attained?\n",
        "\n",
        "  8.   **Tenure:** How long have you been writing code to analyze data?\n",
        "\n",
        "  9.   **MLSkillsSelect** In which areas of machine learning do you consider yourself competent? (Select all that apply) - Selected Choice\n",
        "\n",
        "  10.   **MLTechniquesSelect:** In which machine learning techniques do you consider yourself competent? (Select all that apply) - Selected Choice\n",
        "  \n",
        "  11.   **EmployerSize:** How many employees work at your current or most recent company?\n",
        "  \n",
        "  12.   **WorkChallengeFrequencyExplaining:** How often did you experience these barriers or challenges within the past year? - Explaining data science to others\n",
        "  \n",
        "  13.   **WorkChallengeFrequencyTalent:** How often did you experience these barriers or challenges within the past year? - Lack of data science talent in the organization\n",
        "\n",
        "  14.   **WorkChallengeFrequencyClarity:** How often did you experience these barriers or challenges within the past year? - The lack of a clear question to be answering\n",
        "\n",
        "  15.   **WorkChallengeFrequencyDataAccess** How often did you experience these barriers or challenges within the past year? - Unavailability of/difficult access to data\n",
        "\n",
        "  16.   **CompensationScore:** Indicator for compensation of the employee.\n",
        "  \n",
        "  17.   **RemoteWork:** How often do you work remotely?\n",
        "  \n",
        "  15.   **Continent** Select the continent you currently live in.\n",
        "\n",
        "  16.   **Income:** What is your income?\n",
        "  \n",
        "  17.   **IncomeCurrency:** How is your income paid? (Dollar or Euro)\n",
        "  \n",
        "  18.   **JobSatisfaction:** How satisfied are you with your current job? On a scale from 0 (Highly Dissatisfied) - 10 (Highly Satisfied)\n",
        "\n",
        "\n",
        "*Do not forget to add the shared `Job_Satisfaction_Survey.csv` file to your drive and mount to your drive. Otherwise, you won't be able to read the file.*\n",
        "\n"
      ],
      "metadata": {
        "id": "EeHOEHt7CzEC"
      }
    },
    {
      "cell_type": "code",
      "source": [
        "from google.colab import drive\n",
        "drive.mount(\"./drive\")"
      ],
      "metadata": {
        "colab": {
          "base_uri": "https://localhost:8080/"
        },
        "id": "Bo6joRJKCwNo",
        "outputId": "cba96ed5-458f-4f91-cf6e-2f996758281f"
      },
      "execution_count": 1,
      "outputs": [
        {
          "output_type": "stream",
          "name": "stdout",
          "text": [
            "Drive already mounted at ./drive; to attempt to forcibly remount, call drive.mount(\"./drive\", force_remount=True).\n"
          ]
        }
      ]
    },
    {
      "cell_type": "code",
      "source": [
        "import pandas as pd\n",
        "import numpy as np\n",
        "import matplotlib.pyplot as plt\n",
        "import seaborn as sns\n",
        "from os.path import join\n",
        "\n",
        "%matplotlib inline"
      ],
      "metadata": {
        "id": "6WCJoytsC3Pt"
      },
      "execution_count": 2,
      "outputs": []
    },
    {
      "cell_type": "code",
      "source": [
        "fname = \"Job_Satisfaction_Survey.csv\"\n",
        "path_prefix = '/content/drive/MyDrive/Colab Notebooks/' # Change Here with the correct path\n",
        "df = pd.read_csv(join(path_prefix, fname))\n",
        "df.head(2)"
      ],
      "metadata": {
        "colab": {
          "base_uri": "https://localhost:8080/",
          "height": 275
        },
        "id": "s1Wv3mNGC4g5",
        "outputId": "ee233437-8380-46dd-cbc8-9581aac763aa"
      },
      "execution_count": 15,
      "outputs": [
        {
          "output_type": "execute_result",
          "data": {
            "text/plain": [
              "   ID GenderSelect   Country   Age                 CurrentJobTitleSelect  \\\n",
              "0   1         Male  Pakistan  28.0  Software Developer/Software Engineer   \n",
              "1   2         Male    Mexico  26.0                    Computer Scientist   \n",
              "\n",
              "  LanguageRecommendationSelect    FormalEducation        Tenure  \\\n",
              "0                          SAS  Bachelor's degree  3 to 5 years   \n",
              "1                       Python    Master's degree  1 to 2 years   \n",
              "\n",
              "                                      MLSkillsSelect  \\\n",
              "0                                  Survival Analysis   \n",
              "1  Natural Language Processing,Supervised Machine...   \n",
              "\n",
              "                                  MLTechniquesSelect  ...  \\\n",
              "0  Hidden Markov Models HMMs,Logistic Regression,...  ...   \n",
              "1  Bayesian Techniques,Support Vector Machines (S...  ...   \n",
              "\n",
              "  WorkChallengeFrequencyTalent WorkChallengeFrequencyClarity  \\\n",
              "0                          NaN                           NaN   \n",
              "1                        Often                           NaN   \n",
              "\n",
              "  WorkChallengeFrequencyDataAccess CompensationScore WorkMLTeamSeatSelect  \\\n",
              "0                              NaN               8.0      Standalone Team   \n",
              "1                              NaN               NaN  Business Department   \n",
              "\n",
              "   RemoteWork JobSatisfaction Continent  Income IncomeCurrency  \n",
              "0         NaN               4       AS_  110077           euro  \n",
              "1         NaN               7       NA_  128111         dollar  \n",
              "\n",
              "[2 rows x 22 columns]"
            ],
            "text/html": [
              "\n",
              "  <div id=\"df-1053b9a9-f87c-4d6e-bd79-a2e3b5c546b8\">\n",
              "    <div class=\"colab-df-container\">\n",
              "      <div>\n",
              "<style scoped>\n",
              "    .dataframe tbody tr th:only-of-type {\n",
              "        vertical-align: middle;\n",
              "    }\n",
              "\n",
              "    .dataframe tbody tr th {\n",
              "        vertical-align: top;\n",
              "    }\n",
              "\n",
              "    .dataframe thead th {\n",
              "        text-align: right;\n",
              "    }\n",
              "</style>\n",
              "<table border=\"1\" class=\"dataframe\">\n",
              "  <thead>\n",
              "    <tr style=\"text-align: right;\">\n",
              "      <th></th>\n",
              "      <th>ID</th>\n",
              "      <th>GenderSelect</th>\n",
              "      <th>Country</th>\n",
              "      <th>Age</th>\n",
              "      <th>CurrentJobTitleSelect</th>\n",
              "      <th>LanguageRecommendationSelect</th>\n",
              "      <th>FormalEducation</th>\n",
              "      <th>Tenure</th>\n",
              "      <th>MLSkillsSelect</th>\n",
              "      <th>MLTechniquesSelect</th>\n",
              "      <th>...</th>\n",
              "      <th>WorkChallengeFrequencyTalent</th>\n",
              "      <th>WorkChallengeFrequencyClarity</th>\n",
              "      <th>WorkChallengeFrequencyDataAccess</th>\n",
              "      <th>CompensationScore</th>\n",
              "      <th>WorkMLTeamSeatSelect</th>\n",
              "      <th>RemoteWork</th>\n",
              "      <th>JobSatisfaction</th>\n",
              "      <th>Continent</th>\n",
              "      <th>Income</th>\n",
              "      <th>IncomeCurrency</th>\n",
              "    </tr>\n",
              "  </thead>\n",
              "  <tbody>\n",
              "    <tr>\n",
              "      <th>0</th>\n",
              "      <td>1</td>\n",
              "      <td>Male</td>\n",
              "      <td>Pakistan</td>\n",
              "      <td>28.0</td>\n",
              "      <td>Software Developer/Software Engineer</td>\n",
              "      <td>SAS</td>\n",
              "      <td>Bachelor's degree</td>\n",
              "      <td>3 to 5 years</td>\n",
              "      <td>Survival Analysis</td>\n",
              "      <td>Hidden Markov Models HMMs,Logistic Regression,...</td>\n",
              "      <td>...</td>\n",
              "      <td>NaN</td>\n",
              "      <td>NaN</td>\n",
              "      <td>NaN</td>\n",
              "      <td>8.0</td>\n",
              "      <td>Standalone Team</td>\n",
              "      <td>NaN</td>\n",
              "      <td>4</td>\n",
              "      <td>AS_</td>\n",
              "      <td>110077</td>\n",
              "      <td>euro</td>\n",
              "    </tr>\n",
              "    <tr>\n",
              "      <th>1</th>\n",
              "      <td>2</td>\n",
              "      <td>Male</td>\n",
              "      <td>Mexico</td>\n",
              "      <td>26.0</td>\n",
              "      <td>Computer Scientist</td>\n",
              "      <td>Python</td>\n",
              "      <td>Master's degree</td>\n",
              "      <td>1 to 2 years</td>\n",
              "      <td>Natural Language Processing,Supervised Machine...</td>\n",
              "      <td>Bayesian Techniques,Support Vector Machines (S...</td>\n",
              "      <td>...</td>\n",
              "      <td>Often</td>\n",
              "      <td>NaN</td>\n",
              "      <td>NaN</td>\n",
              "      <td>NaN</td>\n",
              "      <td>Business Department</td>\n",
              "      <td>NaN</td>\n",
              "      <td>7</td>\n",
              "      <td>NA_</td>\n",
              "      <td>128111</td>\n",
              "      <td>dollar</td>\n",
              "    </tr>\n",
              "  </tbody>\n",
              "</table>\n",
              "<p>2 rows × 22 columns</p>\n",
              "</div>\n",
              "      <button class=\"colab-df-convert\" onclick=\"convertToInteractive('df-1053b9a9-f87c-4d6e-bd79-a2e3b5c546b8')\"\n",
              "              title=\"Convert this dataframe to an interactive table.\"\n",
              "              style=\"display:none;\">\n",
              "        \n",
              "  <svg xmlns=\"http://www.w3.org/2000/svg\" height=\"24px\"viewBox=\"0 0 24 24\"\n",
              "       width=\"24px\">\n",
              "    <path d=\"M0 0h24v24H0V0z\" fill=\"none\"/>\n",
              "    <path d=\"M18.56 5.44l.94 2.06.94-2.06 2.06-.94-2.06-.94-.94-2.06-.94 2.06-2.06.94zm-11 1L8.5 8.5l.94-2.06 2.06-.94-2.06-.94L8.5 2.5l-.94 2.06-2.06.94zm10 10l.94 2.06.94-2.06 2.06-.94-2.06-.94-.94-2.06-.94 2.06-2.06.94z\"/><path d=\"M17.41 7.96l-1.37-1.37c-.4-.4-.92-.59-1.43-.59-.52 0-1.04.2-1.43.59L10.3 9.45l-7.72 7.72c-.78.78-.78 2.05 0 2.83L4 21.41c.39.39.9.59 1.41.59.51 0 1.02-.2 1.41-.59l7.78-7.78 2.81-2.81c.8-.78.8-2.07 0-2.86zM5.41 20L4 18.59l7.72-7.72 1.47 1.35L5.41 20z\"/>\n",
              "  </svg>\n",
              "      </button>\n",
              "      \n",
              "  <style>\n",
              "    .colab-df-container {\n",
              "      display:flex;\n",
              "      flex-wrap:wrap;\n",
              "      gap: 12px;\n",
              "    }\n",
              "\n",
              "    .colab-df-convert {\n",
              "      background-color: #E8F0FE;\n",
              "      border: none;\n",
              "      border-radius: 50%;\n",
              "      cursor: pointer;\n",
              "      display: none;\n",
              "      fill: #1967D2;\n",
              "      height: 32px;\n",
              "      padding: 0 0 0 0;\n",
              "      width: 32px;\n",
              "    }\n",
              "\n",
              "    .colab-df-convert:hover {\n",
              "      background-color: #E2EBFA;\n",
              "      box-shadow: 0px 1px 2px rgba(60, 64, 67, 0.3), 0px 1px 3px 1px rgba(60, 64, 67, 0.15);\n",
              "      fill: #174EA6;\n",
              "    }\n",
              "\n",
              "    [theme=dark] .colab-df-convert {\n",
              "      background-color: #3B4455;\n",
              "      fill: #D2E3FC;\n",
              "    }\n",
              "\n",
              "    [theme=dark] .colab-df-convert:hover {\n",
              "      background-color: #434B5C;\n",
              "      box-shadow: 0px 1px 3px 1px rgba(0, 0, 0, 0.15);\n",
              "      filter: drop-shadow(0px 1px 2px rgba(0, 0, 0, 0.3));\n",
              "      fill: #FFFFFF;\n",
              "    }\n",
              "  </style>\n",
              "\n",
              "      <script>\n",
              "        const buttonEl =\n",
              "          document.querySelector('#df-1053b9a9-f87c-4d6e-bd79-a2e3b5c546b8 button.colab-df-convert');\n",
              "        buttonEl.style.display =\n",
              "          google.colab.kernel.accessAllowed ? 'block' : 'none';\n",
              "\n",
              "        async function convertToInteractive(key) {\n",
              "          const element = document.querySelector('#df-1053b9a9-f87c-4d6e-bd79-a2e3b5c546b8');\n",
              "          const dataTable =\n",
              "            await google.colab.kernel.invokeFunction('convertToInteractive',\n",
              "                                                     [key], {});\n",
              "          if (!dataTable) return;\n",
              "\n",
              "          const docLinkHtml = 'Like what you see? Visit the ' +\n",
              "            '<a target=\"_blank\" href=https://colab.research.google.com/notebooks/data_table.ipynb>data table notebook</a>'\n",
              "            + ' to learn more about interactive tables.';\n",
              "          element.innerHTML = '';\n",
              "          dataTable['output_type'] = 'display_data';\n",
              "          await google.colab.output.renderOutput(dataTable, element);\n",
              "          const docLink = document.createElement('div');\n",
              "          docLink.innerHTML = docLinkHtml;\n",
              "          element.appendChild(docLink);\n",
              "        }\n",
              "      </script>\n",
              "    </div>\n",
              "  </div>\n",
              "  "
            ]
          },
          "metadata": {},
          "execution_count": 15
        }
      ]
    },
    {
      "cell_type": "markdown",
      "source": [
        "## Q1: Removing Columns with High Missing Values (15 points)"
      ],
      "metadata": {
        "id": "-Cs-E-n0C61S"
      }
    },
    {
      "cell_type": "markdown",
      "source": [
        "It is not possible to find a perfect dataset. During data collection, some values can be lost. These lost values are called as missing values. In the DataFrame, missing values are usually labelled as `NaN`.\n",
        "\n",
        "In this question, you will remove the columns which contain high number of missing values. If the missing value percentage in a column is greater than or equal to 20%, you will drop that column. \n",
        "* First, print the shape (Number of rows and columns) of the dataset.\n",
        "* Secondly, if missing value percentage in a column is greater than or equal to 20%, print the name of the column and the percentage of missing values in that column. Also, remove this column from dataset.\n",
        "* Lastly, after removing columns, print the number of remaining columns in the dataset.\n",
        "\n",
        "Your output should be like:\n",
        "```\n",
        "Initially, there are [...] rows and [...] columns\n",
        "\n",
        "[...]% of the values are missing in [...] column\n",
        ".\n",
        ".\n",
        ".\n",
        "\n",
        "After removing columns with high missing value percentage, there are [...] columns \n",
        "```"
      ],
      "metadata": {
        "id": "jRt8neFeC79f"
      }
    },
    {
      "cell_type": "code",
      "source": [
        "# Your Code\n",
        "rows = len(df.axes[0]) \n",
        "cols = len(df.axes[1]) \n",
        "print(\"Initially, there are \", rows, \" rows and \", cols, \" columns\\n\", sep=\"\")\n",
        "\n",
        "new_df = pd.read_csv(join(path_prefix, fname))\n",
        "\n",
        "for col in new_df:\n",
        "  num_missing_values = new_df[col].isna().sum() \n",
        "  missing_value_percentage = 100 * (num_missing_values / rows)\n",
        "  if missing_value_percentage >= 20:\n",
        "    new_df = new_df.drop([col], axis=1)\n",
        "    print(missing_value_percentage, \"% of the values are missing in \", col, \" column\", sep=\"\")\n",
        "\n",
        "new_df_rows = len(new_df.axes[0]) \n",
        "new_df_cols = len(new_df.axes[1])\n",
        "print(\"\\nAfter removing columns with high missing value percentage, there are \", new_df_cols,\" columns\\n\", sep=\"\")"
      ],
      "metadata": {
        "id": "jYB3K8XzC7Ql",
        "colab": {
          "base_uri": "https://localhost:8080/"
        },
        "outputId": "8e5449ea-851b-49f6-a212-42d561073612"
      },
      "execution_count": 16,
      "outputs": [
        {
          "output_type": "stream",
          "name": "stdout",
          "text": [
            "Initially, there are 5450 rows and 22 columns\n",
            "\n",
            "77.44954128440367% of the values are missing in WorkChallengeFrequencyExplaining column\n",
            "57.247706422018354% of the values are missing in WorkChallengeFrequencyTalent column\n",
            "68.88073394495413% of the values are missing in WorkChallengeFrequencyClarity column\n",
            "68.89908256880733% of the values are missing in WorkChallengeFrequencyDataAccess column\n",
            "20.825688073394495% of the values are missing in CompensationScore column\n",
            "\n",
            "After removing columns with high missing value percentage, there are 17 columns\n",
            "\n"
          ]
        }
      ]
    },
    {
      "cell_type": "markdown",
      "source": [
        "## Q2: Calculating Skill Amounts (15 points)"
      ],
      "metadata": {
        "id": "6hhFHrfvDBkR"
      }
    },
    {
      "cell_type": "markdown",
      "source": [
        "In the survey, people were asked in which area of machine learning (`MLSkillsSelect`) and which machine learning technique (`MLTechniquesSelect`) they consider themselves more competent. Some people gave one answer, but others gave a lot of answers separated by commas.\n",
        "\n",
        "In this question, your task is to:\n",
        "\n",
        "- Create two new column called `MLSkillsSelect_Amount` and `MLTechniquesSelect_Amount` which will store the number of answers given in `MLSkillsSelect` and `MLTechniquesSelect` respectively.\n",
        "- Then, print basic statistics (mean, std, min, max, etc.) on these two columns. Remember that there is function that you can use to achieve this goal.\n",
        "\n",
        "\n",
        "Your answer should be exactly same as the figure below:\n",
        "\n",
        "<img src=\"https://i.ibb.co/FKwc5BR/describe-plot.png\" alt=\"describe-plot\" border=\"0\" width=\"400\">\n",
        "\n",
        "\n"
      ],
      "metadata": {
        "id": "4eu9Vnt9DCD-"
      }
    },
    {
      "cell_type": "code",
      "source": [
        "# Your Code\n",
        "new_df['MLSkillsSelect_Amount'] = new_df['MLSkillsSelect'].apply(lambda x: len(x.split(\",\")) if type(x) == str else 0)\n",
        "new_df['MLTechniquesSelect_Amount'] = new_df['MLTechniquesSelect'].apply(lambda x: len(x.split(\",\")) if type(x) == str else 0)\n",
        "\n",
        "new_df[['MLSkillsSelect_Amount', 'MLTechniquesSelect_Amount']].describe()"
      ],
      "metadata": {
        "id": "nkZNgiH4DFZf",
        "colab": {
          "base_uri": "https://localhost:8080/",
          "height": 300
        },
        "outputId": "eed18b84-8c39-4ec8-db50-af5d1a60fa1f"
      },
      "execution_count": 17,
      "outputs": [
        {
          "output_type": "execute_result",
          "data": {
            "text/plain": [
              "       MLSkillsSelect_Amount  MLTechniquesSelect_Amount\n",
              "count            5450.000000                5450.000000\n",
              "mean                2.648991                   4.164954\n",
              "std                 1.691120                   2.735368\n",
              "min                 0.000000                   0.000000\n",
              "25%                 1.000000                   2.000000\n",
              "50%                 2.000000                   4.000000\n",
              "75%                 4.000000                   6.000000\n",
              "max                13.000000                  14.000000"
            ],
            "text/html": [
              "\n",
              "  <div id=\"df-f8bcf18a-70fe-476d-83c2-deca48efb548\">\n",
              "    <div class=\"colab-df-container\">\n",
              "      <div>\n",
              "<style scoped>\n",
              "    .dataframe tbody tr th:only-of-type {\n",
              "        vertical-align: middle;\n",
              "    }\n",
              "\n",
              "    .dataframe tbody tr th {\n",
              "        vertical-align: top;\n",
              "    }\n",
              "\n",
              "    .dataframe thead th {\n",
              "        text-align: right;\n",
              "    }\n",
              "</style>\n",
              "<table border=\"1\" class=\"dataframe\">\n",
              "  <thead>\n",
              "    <tr style=\"text-align: right;\">\n",
              "      <th></th>\n",
              "      <th>MLSkillsSelect_Amount</th>\n",
              "      <th>MLTechniquesSelect_Amount</th>\n",
              "    </tr>\n",
              "  </thead>\n",
              "  <tbody>\n",
              "    <tr>\n",
              "      <th>count</th>\n",
              "      <td>5450.000000</td>\n",
              "      <td>5450.000000</td>\n",
              "    </tr>\n",
              "    <tr>\n",
              "      <th>mean</th>\n",
              "      <td>2.648991</td>\n",
              "      <td>4.164954</td>\n",
              "    </tr>\n",
              "    <tr>\n",
              "      <th>std</th>\n",
              "      <td>1.691120</td>\n",
              "      <td>2.735368</td>\n",
              "    </tr>\n",
              "    <tr>\n",
              "      <th>min</th>\n",
              "      <td>0.000000</td>\n",
              "      <td>0.000000</td>\n",
              "    </tr>\n",
              "    <tr>\n",
              "      <th>25%</th>\n",
              "      <td>1.000000</td>\n",
              "      <td>2.000000</td>\n",
              "    </tr>\n",
              "    <tr>\n",
              "      <th>50%</th>\n",
              "      <td>2.000000</td>\n",
              "      <td>4.000000</td>\n",
              "    </tr>\n",
              "    <tr>\n",
              "      <th>75%</th>\n",
              "      <td>4.000000</td>\n",
              "      <td>6.000000</td>\n",
              "    </tr>\n",
              "    <tr>\n",
              "      <th>max</th>\n",
              "      <td>13.000000</td>\n",
              "      <td>14.000000</td>\n",
              "    </tr>\n",
              "  </tbody>\n",
              "</table>\n",
              "</div>\n",
              "      <button class=\"colab-df-convert\" onclick=\"convertToInteractive('df-f8bcf18a-70fe-476d-83c2-deca48efb548')\"\n",
              "              title=\"Convert this dataframe to an interactive table.\"\n",
              "              style=\"display:none;\">\n",
              "        \n",
              "  <svg xmlns=\"http://www.w3.org/2000/svg\" height=\"24px\"viewBox=\"0 0 24 24\"\n",
              "       width=\"24px\">\n",
              "    <path d=\"M0 0h24v24H0V0z\" fill=\"none\"/>\n",
              "    <path d=\"M18.56 5.44l.94 2.06.94-2.06 2.06-.94-2.06-.94-.94-2.06-.94 2.06-2.06.94zm-11 1L8.5 8.5l.94-2.06 2.06-.94-2.06-.94L8.5 2.5l-.94 2.06-2.06.94zm10 10l.94 2.06.94-2.06 2.06-.94-2.06-.94-.94-2.06-.94 2.06-2.06.94z\"/><path d=\"M17.41 7.96l-1.37-1.37c-.4-.4-.92-.59-1.43-.59-.52 0-1.04.2-1.43.59L10.3 9.45l-7.72 7.72c-.78.78-.78 2.05 0 2.83L4 21.41c.39.39.9.59 1.41.59.51 0 1.02-.2 1.41-.59l7.78-7.78 2.81-2.81c.8-.78.8-2.07 0-2.86zM5.41 20L4 18.59l7.72-7.72 1.47 1.35L5.41 20z\"/>\n",
              "  </svg>\n",
              "      </button>\n",
              "      \n",
              "  <style>\n",
              "    .colab-df-container {\n",
              "      display:flex;\n",
              "      flex-wrap:wrap;\n",
              "      gap: 12px;\n",
              "    }\n",
              "\n",
              "    .colab-df-convert {\n",
              "      background-color: #E8F0FE;\n",
              "      border: none;\n",
              "      border-radius: 50%;\n",
              "      cursor: pointer;\n",
              "      display: none;\n",
              "      fill: #1967D2;\n",
              "      height: 32px;\n",
              "      padding: 0 0 0 0;\n",
              "      width: 32px;\n",
              "    }\n",
              "\n",
              "    .colab-df-convert:hover {\n",
              "      background-color: #E2EBFA;\n",
              "      box-shadow: 0px 1px 2px rgba(60, 64, 67, 0.3), 0px 1px 3px 1px rgba(60, 64, 67, 0.15);\n",
              "      fill: #174EA6;\n",
              "    }\n",
              "\n",
              "    [theme=dark] .colab-df-convert {\n",
              "      background-color: #3B4455;\n",
              "      fill: #D2E3FC;\n",
              "    }\n",
              "\n",
              "    [theme=dark] .colab-df-convert:hover {\n",
              "      background-color: #434B5C;\n",
              "      box-shadow: 0px 1px 3px 1px rgba(0, 0, 0, 0.15);\n",
              "      filter: drop-shadow(0px 1px 2px rgba(0, 0, 0, 0.3));\n",
              "      fill: #FFFFFF;\n",
              "    }\n",
              "  </style>\n",
              "\n",
              "      <script>\n",
              "        const buttonEl =\n",
              "          document.querySelector('#df-f8bcf18a-70fe-476d-83c2-deca48efb548 button.colab-df-convert');\n",
              "        buttonEl.style.display =\n",
              "          google.colab.kernel.accessAllowed ? 'block' : 'none';\n",
              "\n",
              "        async function convertToInteractive(key) {\n",
              "          const element = document.querySelector('#df-f8bcf18a-70fe-476d-83c2-deca48efb548');\n",
              "          const dataTable =\n",
              "            await google.colab.kernel.invokeFunction('convertToInteractive',\n",
              "                                                     [key], {});\n",
              "          if (!dataTable) return;\n",
              "\n",
              "          const docLinkHtml = 'Like what you see? Visit the ' +\n",
              "            '<a target=\"_blank\" href=https://colab.research.google.com/notebooks/data_table.ipynb>data table notebook</a>'\n",
              "            + ' to learn more about interactive tables.';\n",
              "          element.innerHTML = '';\n",
              "          dataTable['output_type'] = 'display_data';\n",
              "          await google.colab.output.renderOutput(dataTable, element);\n",
              "          const docLink = document.createElement('div');\n",
              "          docLink.innerHTML = docLinkHtml;\n",
              "          element.appendChild(docLink);\n",
              "        }\n",
              "      </script>\n",
              "    </div>\n",
              "  </div>\n",
              "  "
            ]
          },
          "metadata": {},
          "execution_count": 17
        }
      ]
    },
    {
      "cell_type": "markdown",
      "source": [
        "## Q3: How do Age and Education Level Affect Income? (35 points)"
      ],
      "metadata": {
        "id": "JdfxutgvDJY2"
      }
    },
    {
      "cell_type": "markdown",
      "source": [
        "In the survey, people were asked about their annual earnings. However, while some of these earnings are in dollars, some of them are in euros. When examining this information, it would be good to convert them all to the same currency.\n",
        "\n",
        "In addition, it seems that there are different values in the age column which you can see in the box plot below.\n",
        "\n",
        "<img src=\"https://i.ibb.co/wchknnn/boxplot-210.png\" alt=\"boxplot-210\" border=\"0\" width=\"350\">"
      ],
      "metadata": {
        "id": "KtM4m-QxDJpy"
      }
    },
    {
      "cell_type": "markdown",
      "source": [
        "## Q3 Part A: Currency Conversion & Age Grouping (25 Points)"
      ],
      "metadata": {
        "id": "pcS53Y6-DNYs"
      }
    },
    {
      "cell_type": "markdown",
      "source": [
        "In this question, your task is to:\n",
        "\n",
        "- Create a new column called `Income_Dollar` which will store all of the Incomes in dollar. (Take 1 Euro = 1.04 USD)\n",
        "- Then, take only those over 18 (Included) and younger than 65 (Not Included) from the data. You can filter the existing data, create new data or delete from data. You will use this new data in questions after this question.\n",
        "- Print the new number of rows after filtering Age column. \n",
        "\n",
        "Your output should be like\n",
        "```\n",
        "Number of rows after filtering Age column is [...]\n",
        "```\n",
        "\n",
        "- Finally, create a new column named `Age_Group` that contains age information in groups as string. \n",
        "- The Age Groups will be:\n",
        "    - '[18-30)' (This means if age between 18 and 30, 30 is not included, Age_Group value will be '[18-30)' as string)\n",
        "    - '[30-45)'\n",
        "    - '[45-55)'\n",
        "    - '[55-65)'"
      ],
      "metadata": {
        "id": "QmVhyJXjDPsd"
      }
    },
    {
      "cell_type": "code",
      "source": [
        "# Your Code\n",
        "filtered_df = new_df\n",
        "Income_Dollar_array = []\n",
        "\n",
        "for ind in filtered_df.index:\n",
        "  if filtered_df[\"Age\"][ind] < 65 and filtered_df[\"Age\"][ind] >= 18:\n",
        "    Income_Dollar_array.append(filtered_df[\"Income\"][ind] * 1.04)\n",
        "  else:\n",
        "    filtered_df = filtered_df.drop([ind], axis=0)\n",
        "  \n",
        "filtered_df['Income_Dollar'] = Income_Dollar_array\n",
        "\n",
        "filtered_df_rows = len(filtered_df.axes[0]) \n",
        "filtered_df_cols = len(filtered_df.axes[1])\n",
        "print(\"Number of rows after filtering Age column is \", filtered_df_rows, sep=\"\")\n",
        "\n",
        "Age_Group_array = []\n",
        "for ind in filtered_df.index:\n",
        "  if filtered_df[\"Age\"][ind] < 30 and filtered_df[\"Age\"][ind] >= 18:\n",
        "    Age_Group_array.append(\"[18-30)\")\n",
        "  elif filtered_df[\"Age\"][ind] < 45 and filtered_df[\"Age\"][ind] >= 30:\n",
        "    Age_Group_array.append(\"[30-45)\")\n",
        "  elif filtered_df[\"Age\"][ind] < 55 and filtered_df[\"Age\"][ind] >= 45:\n",
        "    Age_Group_array.append(\"[45-55)\")\n",
        "  else:\n",
        "    Age_Group_array.append(\"[55-65)\")\n",
        "\n",
        "filtered_df['Age_Group'] = Age_Group_array"
      ],
      "metadata": {
        "id": "W00g5oiNDR1Y",
        "colab": {
          "base_uri": "https://localhost:8080/"
        },
        "outputId": "3e9ffc24-0cd8-4eac-eee3-f85ed74de906"
      },
      "execution_count": 22,
      "outputs": [
        {
          "output_type": "stream",
          "name": "stdout",
          "text": [
            "Number of rows after filtering Age column is 5343\n"
          ]
        }
      ]
    },
    {
      "cell_type": "markdown",
      "source": [
        "## Q3 Part B: Plotting (10 Points)"
      ],
      "metadata": {
        "id": "qqdn92uIDVZK"
      }
    },
    {
      "cell_type": "markdown",
      "source": [
        "In the previous part, all income information was converted to dollars and age information was grouped. Using these information, let's examine the relationship between the education level, income and age groups of the people surveyed.\n",
        "\n",
        "In this question, your task is to:\n",
        "\n",
        "- Plot the average `Income_Dollar` of each `FormalEducation` as bar chart and use `Age_Group` as color encoding.\n",
        "- `FormalEducation` names in X axis should be rotated by 30 degrees\n",
        "- Set the figure size as (10,6)\n",
        "- Don' forget to add **legend** to show color representing Age Groups and add **title**\n",
        "\n",
        "The result should be exactly same as the figure below.\n",
        "\n",
        "<img src=\"https://i.ibb.co/9gf8mwN/barplot-210.png\" alt=\"barplot-210\" border=\"0\" width=\"500\">"
      ],
      "metadata": {
        "id": "IEOrtonCDVwT"
      }
    },
    {
      "cell_type": "code",
      "source": [
        "# Your Code\n",
        "order = ['Bachelor\\'s degree', 'Doctoral degree', 'Master\\'s degree', 'Other']\n",
        "ct = pd.crosstab(filtered_df[\"FormalEducation\"], filtered_df[\"Age_Group\"], values=filtered_df.Income_Dollar, aggfunc='mean').plot.bar(figsize=(10,6), title='Mean Income of People from Different Education Level')\n",
        "ct.set_ylabel(\"Income_Dollar\")\n",
        "ct.set_xticklabels(order, rotation=30)\n",
        "ct"
      ],
      "metadata": {
        "id": "tkNjntpgDXyx",
        "colab": {
          "base_uri": "https://localhost:8080/",
          "height": 465
        },
        "outputId": "c5fddc0a-adae-448c-e297-994e26eaa213"
      },
      "execution_count": 23,
      "outputs": [
        {
          "output_type": "execute_result",
          "data": {
            "text/plain": [
              "<matplotlib.axes._subplots.AxesSubplot at 0x7fe33e9bc580>"
            ]
          },
          "metadata": {},
          "execution_count": 23
        },
        {
          "output_type": "display_data",
          "data": {
            "text/plain": [
              "<Figure size 720x432 with 1 Axes>"
            ],
            "image/png": "[encoded data removed]"
          },
          "metadata": {
            "needs_background": "light"
          }
        }
      ]
    },
    {
      "cell_type": "markdown",
      "source": [
        "## Q4: Correlation of Features (10 points)"
      ],
      "metadata": {
        "id": "w4yWLq2TDbO2"
      }
    },
    {
      "cell_type": "markdown",
      "source": [
        "In this question, you will check the correlation between each numerical feature in dataset. Your task is to create a heatmap to display correlations. \n",
        "\n",
        "* You should display a colorbar right next to figure.\n",
        "* Annotate the heatmap with the correlation values for each pair. \n",
        "* Rotate the labels in X axis by 90 degrees to prevent overlapping.\n",
        "* Set the figure size as (10,6)\n",
        "\n",
        "The result should be exactly same as the figure below.\n",
        "\n",
        "<img src=\"https://i.ibb.co/LSnPJyS/correlation-210.png\" alt=\"correlation-210\" border=\"0\" width=\"600\">"
      ],
      "metadata": {
        "id": "DPCNor0BDbdw"
      }
    },
    {
      "cell_type": "code",
      "source": [
        "# Your Code\n",
        "filtered_df = filtered_df.dropna(subset=['Age', 'JobSatisfaction', 'Income_Dollar', 'MLSkillsSelect_Amount', 'MLTechniquesSelect_Amount'])\n",
        "heatmap = sns.heatmap(filtered_df[['Age', 'JobSatisfaction','Income_Dollar','MLSkillsSelect_Amount', 'MLTechniquesSelect_Amount']].corr(), annot=True, cbar=True)\n",
        "\n",
        "plt.xticks(rotation=90)\n",
        "plt.figure(figsize=(10,6))\n",
        "heatmap.set_title(\"Correlation of features\")\n",
        "print(heatmap)"
      ],
      "metadata": {
        "id": "l8PTI1mFDfZd",
        "colab": {
          "base_uri": "https://localhost:8080/",
          "height": 450
        },
        "outputId": "fd92df09-e6b5-4a84-cf10-9692cddd7499"
      },
      "execution_count": 24,
      "outputs": [
        {
          "output_type": "stream",
          "name": "stdout",
          "text": [
            "AxesSubplot(0.125,0.125;0.62x0.755)\n"
          ]
        },
        {
          "output_type": "display_data",
          "data": {
            "text/plain": [
              "<Figure size 432x288 with 2 Axes>"
            ],
            "image/png": "[encoded data removed]"
          },
          "metadata": {
            "needs_background": "light"
          }
        },
        {
          "output_type": "display_data",
          "data": {
            "text/plain": [
              "<Figure size 720x432 with 0 Axes>"
            ]
          },
          "metadata": {}
        }
      ]
    },
    {
      "cell_type": "markdown",
      "source": [
        "## Q5: Plotting Job Satisfaction Around the World (25 points)"
      ],
      "metadata": {
        "id": "LMmvba_WDiuM"
      }
    },
    {
      "cell_type": "markdown",
      "source": [
        "In the dataset, `Country` column indicates where people lives. Your task in this question is to use `GeoPandas` library to display the average Job Satisfaction on a world map. \n",
        "\n",
        "* In the cell below, you can find a `GeoDataFrame` object that contains country names (column `name`) and geometric information (column `geometry`) for each contry. \n",
        "* Iterate over `GeoDataFrame` object. For each country, find the average `Job Satisfaction` in the original dataset.\n",
        "* Lastly, plot country averages on a world map. Some countries in the `GeoDataFrame` object will have 0 as average value since they do not exist in `Country` column. These countries will be automatically discarded by `GeoPandas` so they will not be shown on the world map. In order to prevent this, use `missing_kwds` parameter to set a default color for as 'lightgrey' these countries. \n",
        "\n",
        "\n",
        "The result should be exactly same as the figure below. You can set `cmap='OrRd'` for the color map and `figsize=(20,5)` for the figure size. Do not forget to add legend next to the world map.\n",
        "\n",
        "<img src=\"https://i.ibb.co/Pc1Dn33/worldmap-210.png\" alt=\"worldmap-210\" border=\"0\" width=\"700\">"
      ],
      "metadata": {
        "id": "UQJJpWLvDi_B"
      }
    },
    {
      "cell_type": "code",
      "source": [
        "# To install geopandas library, run the command below\n",
        "# !pip install geopandas\n",
        "\n",
        "import geopandas as gpd\n",
        "\n",
        "# world is a GeoDataFrame object\n",
        "world = gpd.read_file(gpd.datasets.get_path('naturalearth_lowres'))\n",
        "world = world[(world.name!=\"Antarctica\")]\n",
        "world.head()"
      ],
      "metadata": {
        "colab": {
          "base_uri": "https://localhost:8080/",
          "height": 206
        },
        "id": "2iR1TznMDmMT",
        "outputId": "8cb0b669-177e-4901-881d-443f3d99f635"
      },
      "execution_count": 12,
      "outputs": [
        {
          "output_type": "execute_result",
          "data": {
            "text/plain": [
              "       pop_est      continent                      name iso_a3  gdp_md_est  \\\n",
              "0     889953.0        Oceania                      Fiji    FJI        5496   \n",
              "1   58005463.0         Africa                  Tanzania    TZA       63177   \n",
              "2     603253.0         Africa                 W. Sahara    ESH         907   \n",
              "3   37589262.0  North America                    Canada    CAN     1736425   \n",
              "4  328239523.0  North America  United States of America    USA    21433226   \n",
              "\n",
              "                                            geometry  \n",
              "0  MULTIPOLYGON (((180.00000 -16.06713, 180.00000...  \n",
              "1  POLYGON ((33.90371 -0.95000, 34.07262 -1.05982...  \n",
              "2  POLYGON ((-8.66559 27.65643, -8.66512 27.58948...  \n",
              "3  MULTIPOLYGON (((-122.84000 49.00000, -122.9742...  \n",
              "4  MULTIPOLYGON (((-122.84000 49.00000, -120.0000...  "
            ],
            "text/html": [
              "\n",
              "  <div id=\"df-b5cdf09f-e485-48de-821e-db7803eea3f9\">\n",
              "    <div class=\"colab-df-container\">\n",
              "      <div>\n",
              "<style scoped>\n",
              "    .dataframe tbody tr th:only-of-type {\n",
              "        vertical-align: middle;\n",
              "    }\n",
              "\n",
              "    .dataframe tbody tr th {\n",
              "        vertical-align: top;\n",
              "    }\n",
              "\n",
              "    .dataframe thead th {\n",
              "        text-align: right;\n",
              "    }\n",
              "</style>\n",
              "<table border=\"1\" class=\"dataframe\">\n",
              "  <thead>\n",
              "    <tr style=\"text-align: right;\">\n",
              "      <th></th>\n",
              "      <th>pop_est</th>\n",
              "      <th>continent</th>\n",
              "      <th>name</th>\n",
              "      <th>iso_a3</th>\n",
              "      <th>gdp_md_est</th>\n",
              "      <th>geometry</th>\n",
              "    </tr>\n",
              "  </thead>\n",
              "  <tbody>\n",
              "    <tr>\n",
              "      <th>0</th>\n",
              "      <td>889953.0</td>\n",
              "      <td>Oceania</td>\n",
              "      <td>Fiji</td>\n",
              "      <td>FJI</td>\n",
              "      <td>5496</td>\n",
              "      <td>MULTIPOLYGON (((180.00000 -16.06713, 180.00000...</td>\n",
              "    </tr>\n",
              "    <tr>\n",
              "      <th>1</th>\n",
              "      <td>58005463.0</td>\n",
              "      <td>Africa</td>\n",
              "      <td>Tanzania</td>\n",
              "      <td>TZA</td>\n",
              "      <td>63177</td>\n",
              "      <td>POLYGON ((33.90371 -0.95000, 34.07262 -1.05982...</td>\n",
              "    </tr>\n",
              "    <tr>\n",
              "      <th>2</th>\n",
              "      <td>603253.0</td>\n",
              "      <td>Africa</td>\n",
              "      <td>W. Sahara</td>\n",
              "      <td>ESH</td>\n",
              "      <td>907</td>\n",
              "      <td>POLYGON ((-8.66559 27.65643, -8.66512 27.58948...</td>\n",
              "    </tr>\n",
              "    <tr>\n",
              "      <th>3</th>\n",
              "      <td>37589262.0</td>\n",
              "      <td>North America</td>\n",
              "      <td>Canada</td>\n",
              "      <td>CAN</td>\n",
              "      <td>1736425</td>\n",
              "      <td>MULTIPOLYGON (((-122.84000 49.00000, -122.9742...</td>\n",
              "    </tr>\n",
              "    <tr>\n",
              "      <th>4</th>\n",
              "      <td>328239523.0</td>\n",
              "      <td>North America</td>\n",
              "      <td>United States of America</td>\n",
              "      <td>USA</td>\n",
              "      <td>21433226</td>\n",
              "      <td>MULTIPOLYGON (((-122.84000 49.00000, -120.0000...</td>\n",
              "    </tr>\n",
              "  </tbody>\n",
              "</table>\n",
              "</div>\n",
              "      <button class=\"colab-df-convert\" onclick=\"convertToInteractive('df-b5cdf09f-e485-48de-821e-db7803eea3f9')\"\n",
              "              title=\"Convert this dataframe to an interactive table.\"\n",
              "              style=\"display:none;\">\n",
              "        \n",
              "  <svg xmlns=\"http://www.w3.org/2000/svg\" height=\"24px\"viewBox=\"0 0 24 24\"\n",
              "       width=\"24px\">\n",
              "    <path d=\"M0 0h24v24H0V0z\" fill=\"none\"/>\n",
              "    <path d=\"M18.56 5.44l.94 2.06.94-2.06 2.06-.94-2.06-.94-.94-2.06-.94 2.06-2.06.94zm-11 1L8.5 8.5l.94-2.06 2.06-.94-2.06-.94L8.5 2.5l-.94 2.06-2.06.94zm10 10l.94 2.06.94-2.06 2.06-.94-2.06-.94-.94-2.06-.94 2.06-2.06.94z\"/><path d=\"M17.41 7.96l-1.37-1.37c-.4-.4-.92-.59-1.43-.59-.52 0-1.04.2-1.43.59L10.3 9.45l-7.72 7.72c-.78.78-.78 2.05 0 2.83L4 21.41c.39.39.9.59 1.41.59.51 0 1.02-.2 1.41-.59l7.78-7.78 2.81-2.81c.8-.78.8-2.07 0-2.86zM5.41 20L4 18.59l7.72-7.72 1.47 1.35L5.41 20z\"/>\n",
              "  </svg>\n",
              "      </button>\n",
              "      \n",
              "  <style>\n",
              "    .colab-df-container {\n",
              "      display:flex;\n",
              "      flex-wrap:wrap;\n",
              "      gap: 12px;\n",
              "    }\n",
              "\n",
              "    .colab-df-convert {\n",
              "      background-color: #E8F0FE;\n",
              "      border: none;\n",
              "      border-radius: 50%;\n",
              "      cursor: pointer;\n",
              "      display: none;\n",
              "      fill: #1967D2;\n",
              "      height: 32px;\n",
              "      padding: 0 0 0 0;\n",
              "      width: 32px;\n",
              "    }\n",
              "\n",
              "    .colab-df-convert:hover {\n",
              "      background-color: #E2EBFA;\n",
              "      box-shadow: 0px 1px 2px rgba(60, 64, 67, 0.3), 0px 1px 3px 1px rgba(60, 64, 67, 0.15);\n",
              "      fill: #174EA6;\n",
              "    }\n",
              "\n",
              "    [theme=dark] .colab-df-convert {\n",
              "      background-color: #3B4455;\n",
              "      fill: #D2E3FC;\n",
              "    }\n",
              "\n",
              "    [theme=dark] .colab-df-convert:hover {\n",
              "      background-color: #434B5C;\n",
              "      box-shadow: 0px 1px 3px 1px rgba(0, 0, 0, 0.15);\n",
              "      filter: drop-shadow(0px 1px 2px rgba(0, 0, 0, 0.3));\n",
              "      fill: #FFFFFF;\n",
              "    }\n",
              "  </style>\n",
              "\n",
              "      <script>\n",
              "        const buttonEl =\n",
              "          document.querySelector('#df-b5cdf09f-e485-48de-821e-db7803eea3f9 button.colab-df-convert');\n",
              "        buttonEl.style.display =\n",
              "          google.colab.kernel.accessAllowed ? 'block' : 'none';\n",
              "\n",
              "        async function convertToInteractive(key) {\n",
              "          const element = document.querySelector('#df-b5cdf09f-e485-48de-821e-db7803eea3f9');\n",
              "          const dataTable =\n",
              "            await google.colab.kernel.invokeFunction('convertToInteractive',\n",
              "                                                     [key], {});\n",
              "          if (!dataTable) return;\n",
              "\n",
              "          const docLinkHtml = 'Like what you see? Visit the ' +\n",
              "            '<a target=\"_blank\" href=https://colab.research.google.com/notebooks/data_table.ipynb>data table notebook</a>'\n",
              "            + ' to learn more about interactive tables.';\n",
              "          element.innerHTML = '';\n",
              "          dataTable['output_type'] = 'display_data';\n",
              "          await google.colab.output.renderOutput(dataTable, element);\n",
              "          const docLink = document.createElement('div');\n",
              "          docLink.innerHTML = docLinkHtml;\n",
              "          element.appendChild(docLink);\n",
              "        }\n",
              "      </script>\n",
              "    </div>\n",
              "  </div>\n",
              "  "
            ]
          },
          "metadata": {},
          "execution_count": 12
        }
      ]
    },
    {
      "cell_type": "code",
      "source": [
        "# Your Code\n",
        "JobSatisfaction_avr = filtered_df.groupby([\"Country\"])[\"JobSatisfaction\"].agg(lambda x: x.mean())\n",
        "JobSatisfaction_avr_dict = JobSatisfaction_avr.to_dict()\n",
        "\n",
        "def find_avg(country_name):\n",
        "  if country_name in JobSatisfaction_avr_dict.keys():\n",
        "    return JobSatisfaction_avr_dict[country_name]\n",
        "  else:\n",
        "    return np.nan\n",
        "\n",
        "def apply_complex_function(df):\n",
        "    return find_avg(df['name'])\n",
        "\n",
        "world['JobSatisfaction'] = world.apply(apply_complex_function, axis=1)\n",
        "\n",
        "fig, ax = plt.subplots(figsize=(20,5))\n",
        "world.plot(column = \"JobSatisfaction\" ,cmap = \"OrRd\", missing_kwds = {'color': 'lightgrey'}, legend = True, ax = ax)\n",
        "ax.set_axis_off();\n",
        "plt.title(\"Job Satisfaction Around the World\")\n",
        "plt.show()"
      ],
      "metadata": {
        "id": "boAfPa_bDnsA",
        "colab": {
          "base_uri": "https://localhost:8080/",
          "height": 319
        },
        "outputId": "03b9550e-1ad9-46f8-f0f5-bdcbb35c4ca9"
      },
      "execution_count": 13,
      "outputs": [
        {
          "output_type": "display_data",
          "data": {
            "text/plain": [
              "<Figure size 1440x360 with 2 Axes>"
            ],
            "image/png": "[encoded data removed]"
          },
          "metadata": {
            "needs_background": "light"
          }
        }
      ]
    }
  ]
}