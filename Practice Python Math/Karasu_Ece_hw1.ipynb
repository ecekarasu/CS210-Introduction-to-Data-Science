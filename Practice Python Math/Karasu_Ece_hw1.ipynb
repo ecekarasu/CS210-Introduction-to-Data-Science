{
  "nbformat": 4,
  "nbformat_minor": 0,
  "metadata": {
    "colab": {
      "provenance": [],
      "collapsed_sections": []
    },
    "kernelspec": {
      "name": "python3",
      "display_name": "Python 3"
    }
  },
  "cells": [
    {
      "cell_type": "markdown",
      "metadata": {
        "id": "JD9gUM7WW8iT"
      },
      "source": [
        "# Homework 1 - Practicing Python\n",
        "\n",
        "\n",
        "*In the first homework, you are going to work on a set of Python exercises.*\n",
        "\n",
        "**Submission Instructions**\n",
        "\n",
        "---\n",
        "It is important that you follow the submission instructions. \n",
        "1. Copy this assignment notebook to your Drive. <font color = 'red'> `File` --> `Save a copy in Drive`</font>. Rename it as <font color = 'green'>`Lastname_Firstname_hw1`</font>.\n",
        "\n",
        "2. Write your solutions in the cells  marked <font color = 'green'>`# your code`</font>.\n",
        "\n",
        "3. Do not delete your outputs. They are essential for the grading. Make sure that cells containing your solutions are executed, and the results are displayed on the notebook.\n",
        "\n",
        "4. When you're done please submit your solutions as an <font color=\"red\">`.ipynb`</font> file. To do so:\n",
        "\n",
        "\n",
        "  a. Click on <font color=\"red\">`File`</font>  at the top left on the Colab screen, then click on <font color = 'red'>`Download .ipynb`</font>.\n",
        "\n",
        "  b. Then submit the downloaded <font color=\"red\">`.ipynb`</font> version of your work on SUCourse.\n",
        "\n",
        "\n",
        "For any question, you may send an email to the TAs and LAs.\n",
        "\n",
        "---\n",
        "\n",
        "**Important Note:**   \n",
        "In this homework, you do not need to use any libraries than the built-in ones. Hence, you are not allowed to use any libraries, other than the [`pprint`](https://docs.python.org/3/library/pprint.html) library to produce better looking outputs. If you have doubt on what to use what not to use please ask your question in the SuCourse Homework Q&A forum."
      ]
    },
    {
      "cell_type": "markdown",
      "metadata": {
        "id": "rYfw-eaiBOBJ"
      },
      "source": [
        "## 15 points - Q1: Find the E-mail, Given the TA\n",
        "\n",
        "In the cell below, you have two dictionaries. First dictionary containes the TA names as their keys, and their surnames as the values in the dictionary. Second dictionary holds the e-mail addresses for each TA.\n",
        "\n",
        "Here, your goal is to write a fuction named `print_TAs_info` that will return the name, surname and the email information. Example output is as follows:\n",
        "\n",
        "\n",
        "```py\n",
        ">>> print_TAs_info(ta_names_surnames,ta_mails)\n",
        "Deren Ege Turan derenege@sabanciuniv.edu\n",
        "Vahid Khalili Param vahid.khalili@sabanciuniv.edu\n",
        "Mert Pekey mpekey@sabanciuniv.edu\n",
        "```"
      ]
    },
    {
      "cell_type": "code",
      "metadata": {
        "id": "_RCO6nIyEpv1"
      },
      "source": [
        "ta_names_surnames = {'Deren Ege': 'Turan', 'Vahid Khalili': 'Param', 'Mert': 'Pekey'}\n",
        "ta_mails = {'Deren Ege': 'derenege@sabanciuniv.edu', 'Vahid Khalili': 'vahid.khalili@sabanciuniv.edu', 'Mert': 'mpekey@sabanciuniv.edu'}"
      ],
      "execution_count": 1,
      "outputs": []
    },
    {
      "cell_type": "code",
      "metadata": {
        "id": "VsigiNj3FzgF",
        "colab": {
          "base_uri": "https://localhost:8080/"
        },
        "outputId": "dd981b73-e58b-48f5-82f3-6872f75e6932"
      },
      "source": [
        "# your code\n",
        "def print_TAs_info(ta_names_surnames, ta_mails):\n",
        "  for x in ta_names_surnames:\n",
        "    print(x, ta_names_surnames[x], ta_mails[x])\n",
        "\n",
        "print_TAs_info(ta_names_surnames, ta_mails)   "
      ],
      "execution_count": 2,
      "outputs": [
        {
          "output_type": "stream",
          "name": "stdout",
          "text": [
            "Deren Ege Turan derenege@sabanciuniv.edu\n",
            "Vahid Khalili Param vahid.khalili@sabanciuniv.edu\n",
            "Mert Pekey mpekey@sabanciuniv.edu\n"
          ]
        }
      ]
    },
    {
      "cell_type": "markdown",
      "metadata": {
        "id": "DwskSV1dAeoR"
      },
      "source": [
        "## 30 points - Q2: Inflation Rates\n",
        "\n",
        "Inflation rates measured by consumer price index for USA were taken from:\n",
        "https://www.kaggle.com/datasets/varpit94/us-inflation-data-updated-till-may-2021?resource=download\n",
        "\n",
        "Each line stores the month of the year, related consumer price index, seperated by a **comma**.\n",
        "\n",
        "In total, we have 1303 lines where the inflation rates are given monthly for years between 1913 and 2021.\n",
        "\n",
        "<a href=\"https://imgbb.com/\"><img src=\"https://i.ibb.co/hM5LGd9/inf-example.png\" alt=\"inf-example\" border=\"0\"></a>\n",
        "\n",
        "*Do not forget to add the shared file and then mount to your drive. Otherwise, you won't be able to read the file. If you do not know how, please go back to Week 1 recitation materials.*\n",
        "\n",
        "**Attention: You may want to transform the string to numbers by using float() function**"
      ]
    },
    {
      "cell_type": "markdown",
      "metadata": {
        "id": "EJdIEenmj6W_"
      },
      "source": [
        "### 15 points - **Part A**\n",
        "In this part, you should find the **maximum inflation rate change** between consecutive months by using the us_inf.csv file under assignment folder.\n",
        "\n",
        "At the end, the signature should have the similar signature as follows:\n",
        "\n",
        "```py\n",
        "Maximum inflation rate change is 5.882352941176478 between the dates: 01-06-1946 - 01-07-1946\n",
        "```\n",
        "\n",
        "\n",
        "\n"
      ]
    },
    {
      "cell_type": "code",
      "metadata": {
        "id": "tbaryKClTz5Z",
        "colab": {
          "base_uri": "https://localhost:8080/"
        },
        "outputId": "9b25bc18-f4e4-4537-b6a4-b3ec81501347"
      },
      "source": [
        "from google.colab import drive\n",
        "drive.mount(\"./drive/\", force_remount=True)"
      ],
      "execution_count": 3,
      "outputs": [
        {
          "output_type": "stream",
          "name": "stdout",
          "text": [
            "Mounted at ./drive/\n"
          ]
        }
      ]
    },
    {
      "cell_type": "code",
      "metadata": {
        "id": "NnRDeA3_SPi0",
        "colab": {
          "base_uri": "https://localhost:8080/"
        },
        "outputId": "df891290-cd8a-4d73-b822-ac1eb9eb92d3"
      },
      "source": [
        "# your code\n",
        "from os.path import join \n",
        "\n",
        "file_lines_list = []\n",
        "path_prefix = \"./drive/My Drive/Colab Notebooks\"\n",
        "with open(join(path_prefix, \"us_inf.csv\"), \"r\") as f:\n",
        "  for line in f:       \n",
        "    file_lines_list.append(line.split(\",\"))\n",
        "\n",
        "def find_max_rate(file_lines_list):\n",
        "  max_rate = 0\n",
        "  for i in range(len(file_lines_list)):\n",
        "    if i == len(file_lines_list)-1:\n",
        "      print(\"Maximum inflation rate change is \", max_rate, \" between the dates: \",  start_date, \" - \", end_date, sep=\"\")\n",
        "      return\n",
        "    \n",
        "    max_rate_dummy = (float(file_lines_list[i+1][1]) - float(file_lines_list[i][1])) / float(file_lines_list[i][1]) * 100\n",
        "    if max_rate < max_rate_dummy:\n",
        "      max_rate = max_rate_dummy\n",
        "      start_date = file_lines_list[i][0]\n",
        "      end_date = file_lines_list[i+1][0]\n",
        "      \n",
        "find_max_rate(file_lines_list)"
      ],
      "execution_count": 29,
      "outputs": [
        {
          "output_type": "stream",
          "name": "stdout",
          "text": [
            "Maximum inflation rate change is 5.882352941176478 between the dates: 01-06-1946 - 01-07-1946\n"
          ]
        }
      ]
    },
    {
      "cell_type": "markdown",
      "metadata": {
        "id": "pIBUWMoXSSwr"
      },
      "source": [
        "### 15 points - **Part B**\n",
        "\n",
        "Find the mean of changes of the inflation rates in USA between the consecutive dates.\n",
        "\n",
        "Expected output is as follows:\n",
        "\n",
        "```py\n",
        "Mean of changes of the inflation rates is: 0.20199769762087488\n",
        "```\n"
      ]
    },
    {
      "cell_type": "code",
      "metadata": {
        "id": "laBFy2HkSXpC",
        "colab": {
          "base_uri": "https://localhost:8080/"
        },
        "outputId": "86ba3f05-b79a-41b0-90fe-095d9f6b6ae6"
      },
      "source": [
        "# your code\n",
        "from os.path import join \n",
        "\n",
        "path_prefix = \"./drive/My Drive/Colab Notebooks\"\n",
        "file_lines_list = []\n",
        "with open(join(path_prefix, \"us_inf.csv\"), \"r\") as f:\n",
        "  for line in f:       \n",
        "    file_lines_list.append(line.split(\",\"))\n",
        "\n",
        "means_list = []\n",
        "count = 0\n",
        "for i in range(len(file_lines_list)):\n",
        "  if i == len(file_lines_list)-1:\n",
        "    count += 1\n",
        "    mean = sum(means_list)/count\n",
        "    print(\"Mean of changes of the inflation rates is: \", mean, sep=\"\")\n",
        "  else:\n",
        "    rate = (float(file_lines_list[i+1][1]) - float(file_lines_list[i][1]))\n",
        "    means_list.append(rate)\n",
        "    count += 1   "
      ],
      "execution_count": 31,
      "outputs": [
        {
          "output_type": "stream",
          "name": "stdout",
          "text": [
            "Mean of changes of the inflation rates is: 0.20199769762087488\n"
          ]
        }
      ]
    },
    {
      "cell_type": "markdown",
      "metadata": {
        "id": "srIzF7eJYUAW"
      },
      "source": [
        "## 25 points - Q3: Matrix Multiplication \n",
        "\n",
        "List/array reshaping is one of the most fundamental operations in data manipulation. In the figure below, you see a 4x3 dimensional list of lists (a list that contains lists) named `a` that has integers from 1 to 12. We can take another matrix `b` of the form 3x2 dimensional list of lists and multiply them and create a new list of list of size 4x2. \n",
        "\n",
        "![](https://i.ibb.co/hHWcdBQ/mm-drawio-nt3.png)\n",
        "\n",
        "By referencing the figure above, write a function named `matrix_multiplication` which will find the multiplication of the given two matrices. At the end, it should return the resulting matrix.\n",
        "\n",
        "```py\n",
        ">>> a = [[1,2],\n",
        "         [3,4],\n",
        "         [5,6],\n",
        "         [7,8]]\n",
        ">>> b = [[9,10,11],\n",
        "         [12,13,14]]\n",
        ">>> matrix_multiplication(a,b)\n",
        "33\t36\t39\t\n",
        "75\t82\t89\t\n",
        "117\t128\t139\t\n",
        "159\t174\t189\n",
        "```\n",
        "\n",
        "If the given list of lists do not represent a proper matrix (e.g., [[1,2], [3,4,5]] then, it should print \"Not a proper matrix\" and return None, if the number of columns of the first matrix is not equal to the number of the rows of the second matrix, it should again prints \"Not suitable for multiplication\" and return None. \n",
        "\n",
        "```py\n",
        ">>> a = [[1, 2, 3], [5, 6]]\n",
        ">>> b = [[1, 2, 3], [4, 5, 6]]\n",
        ">>> matrix_multiplication(x,y)\n",
        "\"Not a proper matrix\"\n",
        "\n",
        ">>> a = [[1, 2, 3], [4, 5, 6]]\n",
        ">>> b = [[1, 2, 3], [4, 5, 6]]\n",
        ">>> matrix_multiplication(arr)\n",
        "\"Not suitable for multiplication\"\n",
        "```"
      ]
    },
    {
      "cell_type": "code",
      "metadata": {
        "id": "iZgKbmvbZM61"
      },
      "source": [
        "# 4x2 matrix\n",
        "a = [[1, 2],\n",
        "     [3, 4],\n",
        "     [5, 6],\n",
        "     [7, 8]]\n",
        "# 2x3 matrix\n",
        "b = [[9,10,11],\n",
        "     [12,13,14]]\n",
        "# result is 4x3\n"
      ],
      "execution_count": 6,
      "outputs": []
    },
    {
      "cell_type": "code",
      "source": [
        "# your code\n",
        "import pprint\n",
        "\n",
        "def matrix_multiplication():\n",
        "  # if the given list of lists do not represent a proper matrix\n",
        "  cols_a = len(a[0])\n",
        "  cols_b = len(b[0])\n",
        "  rows_a = len(a)\n",
        "  rows_b = len(b)\n",
        "\n",
        "  for each in a:\n",
        "    if len(each) != cols_a:\n",
        "      print(\"Not a proper matrix\")\n",
        "      return None\n",
        "      \n",
        "  for each in b:\n",
        "    if len(each) != cols_b:\n",
        "      print(\"Not a proper matrix\")\n",
        "      return None\n",
        "\n",
        "  # if the number of columns of the first matrix is not equal to the number of the rows of the second matrix\n",
        "  if (cols_a != rows_b):\n",
        "    print(\"Not suitable for multiplication\")\n",
        "    return None\n",
        "\n",
        "  result = []\n",
        "  for i in range(rows_a):\n",
        "    dummy = []\n",
        "    for j in range(cols_b):\n",
        "        dummy.append(0) \n",
        "    result.append(dummy) \n",
        "\n",
        "  for x in range(rows_a):\n",
        "    for y in range(cols_b):\n",
        "      for k in range(rows_b):\n",
        "        result[x][y] += a[x][k] * b[k][y]\n",
        "\n",
        "  for row in result:\n",
        "    print(\"    \".join(map(str,row)))\n",
        "        \n",
        "  return\n",
        "\n",
        "matrix_multiplication()"
      ],
      "metadata": {
        "id": "0nUxArKRrYWG",
        "colab": {
          "base_uri": "https://localhost:8080/"
        },
        "outputId": "1995bfb3-5f78-4b54-af59-f71ae8af83de"
      },
      "execution_count": 20,
      "outputs": [
        {
          "output_type": "stream",
          "name": "stdout",
          "text": [
            "33    36    39\n",
            "75    82    89\n",
            "117    128    139\n",
            "159    174    189\n"
          ]
        }
      ]
    },
    {
      "cell_type": "markdown",
      "metadata": {
        "id": "_0FzjI4Li18J"
      },
      "source": [
        "## 30 points - Q4: Top k Frequent Words in a File\n",
        "\n",
        "\n",
        "In the shared assignment folder, you have a file named sherlock.txt which stores the famous book written by Arhurt Conan Doyle.\n",
        "\n",
        "Write a function named top_k_frequent_words which will take a file name as it's parameter and an integer k that is how many frequent words that we are going to return. Function reads the text file and returns the most k frequent words and how many times they have occured in that file. After finding the top_k_frequent_words, report mean, median and std(sample) between their frequencies. \\\\\n",
        "Hint: Remove the symbols such as: [. , ? ! ; : \\n] \\\\\n",
        "Example signature is as follows: (here k=5)\n",
        "\n",
        "```py\n",
        ">>> top_k_frequent_words(\"file_path\",5)\n",
        "\"the\" occured 5704 times\n",
        "\"and\" occured 2939 times\n",
        "\"of\" occured 2762 times\n",
        "\"to\" occured 2733 times\n",
        "\"a\" occured 2651 times\n",
        "mean: 3357.8\n",
        "median: 2762\n",
        "std: 1315.7665826429854\n",
        "```\n",
        "\n",
        "*Do not forget to add the shared file and then mount to your drive. Otherwise, you won't be able to read the file.*"
      ]
    },
    {
      "cell_type": "code",
      "source": [
        "# Your code\n",
        "import string\n",
        "from os.path import join \n",
        "\n",
        "def top_k_frequent_words(fname, k):\n",
        "  path_prefix = \"./drive/My Drive/Colab Notebooks\"\n",
        "  words_dict = {}\n",
        "  with open(join(path_prefix, fname), \"r\") as f:\n",
        "    for line in f:       \n",
        "      for word in line.split():\n",
        "        word = word.lower()\n",
        "        # word = word.translate(str.maketrans('', '', string.punctuation))\n",
        "        word = word.replace(\"[\", \"\")\n",
        "        word = word.replace(\".\", \"\")\n",
        "        word = word.replace(\",\", \"\")\n",
        "        word = word.replace(\"?\", \"\")\n",
        "        word = word.replace(\"!\", \"\")\n",
        "        word = word.replace(\";\", \"\")\n",
        "        word = word.replace(\":\", \"\")\n",
        "        word = word.replace(\"\\n\", \"\")\n",
        "        word = word.replace(\"]\", \"\")\n",
        "\n",
        "        if word not in words_dict:\n",
        "          words_dict[word] = 1\n",
        "        else:\n",
        "          words_dict[word] = words_dict[word] + 1\n",
        "\n",
        "  max_values_list = []\n",
        "  i = 0\n",
        "  while(i < k):\n",
        "    max_key = max(words_dict, key=words_dict.get)\n",
        "    max_value = words_dict[max_key]\n",
        "    max_values_list.append(max_value)\n",
        "    print(\"\\\"\", max_key, \"\\\"\",\" occured \", max_value, \" times \", sep=\"\")\n",
        "    words_dict[max_key] = 0\n",
        "    i = i + 1\n",
        "\n",
        "  mean = sum(max_values_list)/k\n",
        "  print(\"mean:\", mean)\n",
        "\n",
        "  if k % 2 == 0:\n",
        "    median = (max_values_list[k/2] + max_values_list[(k/2)+1]) / 2\n",
        "  else: \n",
        "    median = max_values_list[int(k/2)]\n",
        "  print(\"median:\", median)\n",
        "  \n",
        "  variance = sum([((x - mean) ** 2) for x in max_values_list]) / len(max_values_list)\n",
        "  std = variance ** 0.5\n",
        "  print(\"std:\", std)\n",
        "\n",
        "top_k_frequent_words(\"sherlock.txt\" , 5)"
      ],
      "metadata": {
        "id": "UQuPrNXLNxNL",
        "colab": {
          "base_uri": "https://localhost:8080/"
        },
        "outputId": "82aa8bcf-754b-41a5-f070-22fcab166d39"
      },
      "execution_count": 26,
      "outputs": [
        {
          "output_type": "stream",
          "name": "stdout",
          "text": [
            "\"the\" occured 5704 times \n",
            "\"and\" occured 2939 times \n",
            "\"of\" occured 2762 times \n",
            "\"to\" occured 2733 times \n",
            "\"a\" occured 2652 times \n",
            "mean: 3358.0\n",
            "median: 2762\n",
            "std: 1176.7373538729873\n"
          ]
        }
      ]
    }
  ]
}